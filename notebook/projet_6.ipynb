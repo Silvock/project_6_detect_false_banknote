{
 "cells": [
  {
   "cell_type": "code",
   "execution_count": 1,
   "metadata": {},
   "outputs": [],
   "source": [
    "import pandas as pd\n",
    "import numpy as np\n",
    "import matplotlib.pyplot as plt\n",
    "import sys\n",
    "from sklearn.decomposition import PCA\n",
    "import seaborn as sns\n",
    "from sklearn.cluster import AgglomerativeClustering,KMeans\n",
    "from sklearn.linear_model import LogisticRegression\n",
    "sns.set(style=\"white\")\n",
    "from sklearn.metrics import confusion_matrix,roc_auc_score, roc_curve, auc,precision_recall_curve\n",
    "from sklearn.externals import joblib\n",
    "from sklearn import preprocessing"
   ]
  },
  {
   "cell_type": "code",
   "execution_count": 2,
   "metadata": {},
   "outputs": [],
   "source": [
    "data = pd.read_csv('../fichier_csv/billets.csv')"
   ]
  },
  {
   "cell_type": "markdown",
   "metadata": {},
   "source": [
    "# Vérification de la présence de valeurs manquantes"
   ]
  },
  {
   "cell_type": "code",
   "execution_count": 3,
   "metadata": {},
   "outputs": [],
   "source": [
    "sys.path.append('../../project_5_prod_market_study/code')"
   ]
  },
  {
   "cell_type": "code",
   "execution_count": 4,
   "metadata": {},
   "outputs": [],
   "source": [
    "import my_functions_revue as mfct"
   ]
  },
  {
   "cell_type": "code",
   "execution_count": 5,
   "metadata": {},
   "outputs": [
    {
     "name": "stdout",
     "output_type": "stream",
     "text": [
      "Il n'y a pas de valeur manquante dans data\n"
     ]
    }
   ],
   "source": [
    "mfct.verif_presence_nan_in_df(data,'data')"
   ]
  },
  {
   "cell_type": "markdown",
   "metadata": {},
   "source": [
    "# Vérification de la presence de doublons"
   ]
  },
  {
   "cell_type": "code",
   "execution_count": 6,
   "metadata": {},
   "outputs": [
    {
     "name": "stdout",
     "output_type": "stream",
     "text": [
      "Absence de doublon, il n'y a pas de retraitement à faire pour data\n"
     ]
    }
   ],
   "source": [
    "mfct.verif_doublon(data,'data')"
   ]
  },
  {
   "cell_type": "markdown",
   "metadata": {},
   "source": [
    "# Vérification de la présence de valeurs aberrantes"
   ]
  },
  {
   "cell_type": "code",
   "execution_count": 7,
   "metadata": {},
   "outputs": [
    {
     "data": {
      "text/plain": [
       "Index(['is_genuine', 'length', 'height_left', 'height_right', 'margin_low',\n",
       "       'margin_up', 'diagonal'],\n",
       "      dtype='object')"
      ]
     },
     "execution_count": 7,
     "metadata": {},
     "output_type": "execute_result"
    }
   ],
   "source": [
    "data.columns"
   ]
  },
  {
   "cell_type": "code",
   "execution_count": 8,
   "metadata": {},
   "outputs": [],
   "source": [
    "# Note : Il y a un bug avec df.boxplot quand on importe seaborn. Les outliers n'apparaissent plus. Par conséquent, il faut utiliser sns.boxplot"
   ]
  },
  {
   "cell_type": "code",
   "execution_count": 9,
   "metadata": {},
   "outputs": [
    {
     "data": {
      "text/plain": [
       "Text(0.5,0,'length (en mm)')"
      ]
     },
     "execution_count": 9,
     "metadata": {},
     "output_type": "execute_result"
    },
    {
     "data": {
      "image/png": "[encoded data removed]",
      "text/plain": [
       "<Figure size 432x288 with 1 Axes>"
      ]
     },
     "metadata": {},
     "output_type": "display_data"
    }
   ],
   "source": [
    "sns.boxplot(data['length'])\n",
    "plt.xlabel('length (en mm)')"
   ]
  },
  {
   "cell_type": "code",
   "execution_count": 10,
   "metadata": {},
   "outputs": [
    {
     "data": {
      "text/plain": [
       "<matplotlib.axes._subplots.AxesSubplot at 0x7f209a9fe518>"
      ]
     },
     "execution_count": 10,
     "metadata": {},
     "output_type": "execute_result"
    },
    {
     "data": {
      "image/png": "[encoded data removed]",
      "text/plain": [
       "<Figure size 432x288 with 1 Axes>"
      ]
     },
     "metadata": {},
     "output_type": "display_data"
    }
   ],
   "source": [
    "sns.boxplot(data['height_left'])"
   ]
  },
  {
   "cell_type": "code",
   "execution_count": 11,
   "metadata": {},
   "outputs": [
    {
     "data": {
      "text/plain": [
       "Text(0.5,0,'height_right (en mm)')"
      ]
     },
     "execution_count": 11,
     "metadata": {},
     "output_type": "execute_result"
    },
    {
     "data": {
      "image/png": "[encoded data removed]",
      "text/plain": [
       "<Figure size 432x288 with 1 Axes>"
      ]
     },
     "metadata": {},
     "output_type": "display_data"
    }
   ],
   "source": [
    "sns.boxplot(data['height_right'])\n",
    "plt.xlabel('height_right (en mm)')"
   ]
  },
  {
   "cell_type": "code",
   "execution_count": 12,
   "metadata": {},
   "outputs": [
    {
     "data": {
      "text/plain": [
       "Text(0.5,0,'margin_low (en mm)')"
      ]
     },
     "execution_count": 12,
     "metadata": {},
     "output_type": "execute_result"
    },
    {
     "data": {
      "image/png": "[encoded data removed]",
      "text/plain": [
       "<Figure size 432x288 with 1 Axes>"
      ]
     },
     "metadata": {},
     "output_type": "display_data"
    }
   ],
   "source": [
    "sns.boxplot(data['margin_low'])\n",
    "plt.xlabel('margin_low (en mm)')"
   ]
  },
  {
   "cell_type": "code",
   "execution_count": 13,
   "metadata": {},
   "outputs": [
    {
     "data": {
      "text/plain": [
       "Text(0.5,0,'margin_up (en mm)')"
      ]
     },
     "execution_count": 13,
     "metadata": {},
     "output_type": "execute_result"
    },
    {
     "data": {
      "image/png": "[encoded data removed]",
      "text/plain": [
       "<Figure size 432x288 with 1 Axes>"
      ]
     },
     "metadata": {},
     "output_type": "display_data"
    }
   ],
   "source": [
    "sns.boxplot(data['margin_up'])\n",
    "plt.xlabel('margin_up (en mm)')"
   ]
  },
  {
   "cell_type": "code",
   "execution_count": 14,
   "metadata": {},
   "outputs": [
    {
     "data": {
      "text/plain": [
       "<matplotlib.axes._subplots.AxesSubplot at 0x7f20989b9908>"
      ]
     },
     "execution_count": 14,
     "metadata": {},
     "output_type": "execute_result"
    },
    {
     "data": {
      "image/png": "[encoded data removed]",
      "text/plain": [
       "<Figure size 432x288 with 1 Axes>"
      ]
     },
     "metadata": {},
     "output_type": "display_data"
    }
   ],
   "source": [
    "sns.boxplot(data['diagonal'])"
   ]
  },
  {
   "cell_type": "markdown",
   "metadata": {},
   "source": [
    "# Conclusion \n",
    "3 outliers pour lenght <br/>\n",
    "1 outlier pour height_right <br/>\n",
    "1 outlier pour margin_up <br/>\n",
    "\n",
    "Nous allons les laisser."
   ]
  },
  {
   "cell_type": "markdown",
   "metadata": {},
   "source": [
    "# Afin d'introduire votre analyse, effectuez une brève description des données (analyses univariées et bivariées)."
   ]
  },
  {
   "cell_type": "markdown",
   "metadata": {},
   "source": [
    "## Analyses univariées"
   ]
  },
  {
   "cell_type": "code",
   "execution_count": null,
   "metadata": {},
   "outputs": [],
   "source": [
    "mfct.analyse_univarie(data,'is_genuine','qual')"
   ]
  },
  {
   "cell_type": "code",
   "execution_count": null,
   "metadata": {},
   "outputs": [],
   "source": [
    "mfct.analyse_vqtecont(data,'length','qtecont')"
   ]
  },
  {
   "cell_type": "code",
   "execution_count": null,
   "metadata": {},
   "outputs": [],
   "source": [
    "mfct.analyse_vqtecont(data,'height_left','qtecont')"
   ]
  },
  {
   "cell_type": "code",
   "execution_count": null,
   "metadata": {},
   "outputs": [],
   "source": [
    "mfct.analyse_vqtecont(data,'height_right','qtecont')"
   ]
  },
  {
   "cell_type": "code",
   "execution_count": null,
   "metadata": {},
   "outputs": [],
   "source": [
    "mfct.analyse_vqtecont(data,'margin_low','qtecont')"
   ]
  },
  {
   "cell_type": "code",
   "execution_count": null,
   "metadata": {},
   "outputs": [],
   "source": [
    "mfct.analyse_vqtecont(data,'margin_up','qtecont')"
   ]
  },
  {
   "cell_type": "code",
   "execution_count": null,
   "metadata": {},
   "outputs": [],
   "source": [
    "mfct.analyse_vqtecont(data,'diagonal','qtecont')"
   ]
  },
  {
   "cell_type": "markdown",
   "metadata": {},
   "source": [
    "## Analyses bivariées"
   ]
  },
  {
   "cell_type": "code",
   "execution_count": null,
   "metadata": {},
   "outputs": [],
   "source": [
    "help(mfct)"
   ]
  },
  {
   "cell_type": "code",
   "execution_count": null,
   "metadata": {},
   "outputs": [],
   "source": [
    "mfct.analyse_bivariee(data,nomcaract1='length',typecaract1='qte',nomcaract2='diagonal',typecaract2='qte')"
   ]
  },
  {
   "cell_type": "code",
   "execution_count": null,
   "metadata": {},
   "outputs": [],
   "source": [
    "mfct.analyse_bivariee(data,nomcaract1='height_left',typecaract1='qte',nomcaract2='height_right',typecaract2='qte')"
   ]
  },
  {
   "cell_type": "code",
   "execution_count": null,
   "metadata": {},
   "outputs": [],
   "source": [
    "mfct.analyse_bivariee(data,nomcaract1='margin_up',typecaract1='qte',nomcaract2='margin_low',typecaract2='qte')"
   ]
  },
  {
   "cell_type": "markdown",
   "metadata": {},
   "source": [
    "# Standardisation des données"
   ]
  },
  {
   "cell_type": "code",
   "execution_count": 15,
   "metadata": {},
   "outputs": [],
   "source": [
    "valeurs = data.iloc[:,[1,2,3,4,5,6]]"
   ]
  },
  {
   "cell_type": "code",
   "execution_count": 16,
   "metadata": {},
   "outputs": [],
   "source": [
    "etiquettes = data['is_genuine']"
   ]
  },
  {
   "cell_type": "code",
   "execution_count": 17,
   "metadata": {},
   "outputs": [
    {
     "data": {
      "text/plain": [
       "Index(['is_genuine', 'length', 'height_left', 'height_right', 'margin_low',\n",
       "       'margin_up', 'diagonal'],\n",
       "      dtype='object')"
      ]
     },
     "execution_count": 17,
     "metadata": {},
     "output_type": "execute_result"
    }
   ],
   "source": [
    "data.columns"
   ]
  },
  {
   "cell_type": "code",
   "execution_count": 18,
   "metadata": {},
   "outputs": [],
   "source": [
    "std_scale = preprocessing.StandardScaler().fit(valeurs)"
   ]
  },
  {
   "cell_type": "code",
   "execution_count": 19,
   "metadata": {},
   "outputs": [
    {
     "data": {
      "text/plain": [
       "['../code/algo_std.pkl']"
      ]
     },
     "execution_count": 19,
     "metadata": {},
     "output_type": "execute_result"
    }
   ],
   "source": [
    "joblib.dump(std_scale, '../code/algo_std.pkl')"
   ]
  },
  {
   "cell_type": "code",
   "execution_count": 20,
   "metadata": {},
   "outputs": [],
   "source": [
    "valeurs_std = std_scale.transform(valeurs)"
   ]
  },
  {
   "cell_type": "code",
   "execution_count": 21,
   "metadata": {},
   "outputs": [],
   "source": [
    "df_valeurs_std = pd.DataFrame(valeurs_std,columns = ['length', 'height_left', 'height_right', 'margin_low','margin_up','diagonal'])"
   ]
  },
  {
   "cell_type": "code",
   "execution_count": 22,
   "metadata": {},
   "outputs": [],
   "source": [
    "df_valeurs_std['is_genuine'] = etiquettes"
   ]
  },
  {
   "cell_type": "code",
   "execution_count": 23,
   "metadata": {},
   "outputs": [],
   "source": [
    "data = df_valeurs_std.copy()"
   ]
  },
  {
   "cell_type": "markdown",
   "metadata": {},
   "source": [
    "# Vous réaliserez une Analyse en Composantes Principales de l'échantillon, en suivant toutes ces étapes :\n",
    "\n",
    "    Analyse de l'éboulis des valeurs propres\n",
    "    Représentation des variables par le cercle des corrélations\n",
    "    Représentation des individus par les plans factoriels\n",
    "    Analyser la qualité de représentation et la contribution des individus.\n",
    "\n",
    "Pour chacune de ces étapes, commentez les résultats obtenus. La variable donnant la nature Vrai/Faux du billet sera utilisée comme variable illustrative."
   ]
  },
  {
   "cell_type": "markdown",
   "metadata": {},
   "source": [
    "Il faut normé les variables avant de faire une ACP \n",
    "\n",
    "normé une variable = \n",
    "- centrée la variable  (on fait en sorte que sa moyenne est égale à 0)= soustraite sa moyenne\n",
    "- reduire la variable (fait en sorte que sa variance = 1)"
   ]
  },
  {
   "cell_type": "markdown",
   "metadata": {},
   "source": [
    "## Analyse de l'éboulis des valeurs propres"
   ]
  },
  {
   "cell_type": "code",
   "execution_count": 24,
   "metadata": {},
   "outputs": [],
   "source": [
    "data_acp = data.copy()\n",
    "data_acp_ind = data.copy()\n",
    "data_acp.index = data_acp['is_genuine']\n",
    "del data_acp['is_genuine']"
   ]
  },
  {
   "cell_type": "code",
   "execution_count": 25,
   "metadata": {},
   "outputs": [],
   "source": [
    "X = data_acp.values"
   ]
  },
  {
   "cell_type": "markdown",
   "metadata": {},
   "source": [
    "Choix du nombre d'axe : \n",
    "2 critères : \n",
    "Critère du coude : sur l’eboulis des valeurs propres, on observe un \n",
    "décrochement (coude) suivi d’une décroissance  régulière. On sélectionne les axes avant le décrochement.\n",
    "\n",
    "Critère de Kaiser: on ne retient que les axes dont l’inertie est supérieure à l’inertie moyenne I/p (un peu étroit). \n",
    "Kaiser en ACP normée:  I/p= 1 : On ne retiendra que les axes associés à des valeurs propre supérieures à 1"
   ]
  },
  {
   "cell_type": "code",
   "execution_count": 26,
   "metadata": {},
   "outputs": [
    {
     "data": {
      "text/plain": [
       "(170, 6)"
      ]
     },
     "execution_count": 26,
     "metadata": {},
     "output_type": "execute_result"
    }
   ],
   "source": [
    "X.shape"
   ]
  },
  {
   "cell_type": "code",
   "execution_count": 27,
   "metadata": {},
   "outputs": [],
   "source": [
    "n_components = 3"
   ]
  },
  {
   "cell_type": "code",
   "execution_count": 28,
   "metadata": {},
   "outputs": [
    {
     "data": {
      "text/plain": [
       "(170, 3)"
      ]
     },
     "execution_count": 28,
     "metadata": {},
     "output_type": "execute_result"
    }
   ],
   "source": [
    "pca = PCA(n_components=n_components)\n",
    "reduction = pca.fit_transform(X)\n",
    "reduction.shape"
   ]
  },
  {
   "cell_type": "code",
   "execution_count": 29,
   "metadata": {},
   "outputs": [
    {
     "data": {
      "text/plain": [
       "array([[ 0.07327499,  0.47550205,  0.4918214 ,  0.43102671,  0.35253984,\n",
       "        -0.46537288],\n",
       "       [ 0.77963908,  0.33925019,  0.23554253, -0.32053699, -0.14111974,\n",
       "         0.31453645],\n",
       "       [-0.08889419,  0.12276016,  0.15383022,  0.5128076 , -0.82114881,\n",
       "         0.12691346]])"
      ]
     },
     "execution_count": 29,
     "metadata": {},
     "output_type": "execute_result"
    }
   ],
   "source": [
    "pca.components_"
   ]
  },
  {
   "cell_type": "code",
   "execution_count": 30,
   "metadata": {},
   "outputs": [
    {
     "data": {
      "text/plain": [
       "array([0.47447921, 0.21957106, 0.14234524])"
      ]
     },
     "execution_count": 30,
     "metadata": {},
     "output_type": "execute_result"
    }
   ],
   "source": [
    "pca.explained_variance_ratio_"
   ]
  },
  {
   "cell_type": "code",
   "execution_count": 31,
   "metadata": {},
   "outputs": [
    {
     "data": {
      "image/png": "[encoded data removed]",
      "text/plain": [
       "<Figure size 576x432 with 1 Axes>"
      ]
     },
     "metadata": {},
     "output_type": "display_data"
    }
   ],
   "source": [
    "ind = np.arange(0, n_components)\n",
    "(fig, ax) = plt.subplots(figsize=(8, 6))\n",
    "sns.pointplot(x=ind, y=pca.explained_variance_ratio_)\n",
    "ax.set_title(\"Graphique de l'ébouli (scree plot)\")\n",
    "ax.set_xticks(ind)\n",
    "ax.set_xticklabels(ind)\n",
    "ax.set_xlabel('Component Number')\n",
    "ax.set_ylabel(\"Pourcentage d''Explained Variance'\")\n",
    "\n",
    "fig.savefig('../presentation/images/graphe_ebouli')\n",
    "plt.show()"
   ]
  },
  {
   "cell_type": "markdown",
   "metadata": {},
   "source": [
    "Selon le critère du coude on retiendra deux axes."
   ]
  },
  {
   "cell_type": "markdown",
   "metadata": {},
   "source": [
    "Définition : Les valeurs propres de la matrice de corrélation, ou de la matrice de covariance des variables actives jouent un rôle important dans le calcul des composantes principales. En plus de déterminer les coordonnées factorielles des variables et individus, elles donnent une assez bonne idée de la variance expliquée par le nombre de facteurs donné. Cette information peut de plus être utilisée pour déterminer l'ordre dans lequel vous pouvez proposer de réduire les dimensions de l'espace original des variables ou individus, sans perdre beaucoup d'information."
   ]
  },
  {
   "cell_type": "markdown",
   "metadata": {},
   "source": [
    "##     Représentation des variables par le cercle des corrélations\n"
   ]
  },
  {
   "cell_type": "code",
   "execution_count": 32,
   "metadata": {},
   "outputs": [],
   "source": [
    "for i in range(0, n_components):\n",
    "    data_acp_ind['PC' + str(i + 1)] = reduction[:, i]"
   ]
  },
  {
   "cell_type": "code",
   "execution_count": 33,
   "metadata": {},
   "outputs": [
    {
     "data": {
      "image/png": "[encoded data removed]",
      "text/plain": [
       "<Figure size 864x864 with 1 Axes>"
      ]
     },
     "metadata": {},
     "output_type": "display_data"
    }
   ],
   "source": [
    "# Plot a variable factor map for the first two dimensions.\n",
    "(fig, ax) = plt.subplots(figsize=(12, 12))\n",
    "for i in range(0, len(pca.components_.T)):\n",
    "    ax.arrow(0,\n",
    "             0,  # Start the arrow at the origin\n",
    "             pca.components_[0, i],  #0 for PC1\n",
    "             pca.components_[1, i],  #1 for PC2\n",
    "             head_width=0.1,\n",
    "             head_length=0.1)\n",
    "\n",
    "    plt.text(pca.components_[0, i] + 0.05,\n",
    "         pca.components_[1, i] + 0.05,\n",
    "         data_acp.columns.values[i])\n",
    "\n",
    "an = np.linspace(0, 2 * np.pi, 100)\n",
    "plt.plot(np.cos(an), np.sin(an))  # Add a unit circle for scale\n",
    "plt.axis('equal')\n",
    "\n",
    "ax.set_title('Variable factor map')\n",
    "plt.xlabel('Correlation PC1')\n",
    "plt.ylabel('Correlation PC2')\n",
    "plt.plot([0,0],[-1, 1], 'r--')\n",
    "plt.plot([-1,1],[0, 0], 'g--')\n",
    "plt.show()\n",
    "\n",
    "fig.savefig('../presentation/images/cercle_correl')\n",
    "\n",
    "# Direction du vecteur \n",
    "#Longueur du vecteur"
   ]
  },
  {
   "cell_type": "markdown",
   "metadata": {},
   "source": [
    "Définition : un cercle de cercle de corrélation défini par deux composantes principales est la représentation graphique des variables en fonction de leurs coefficients de corrélation avec les composantes principales\n",
    "\n",
    "\n",
    "    Les variables positivement corrélées sont regroupées.\n",
    "    Les variables négativement corrélées sont positionnées sur les côtés opposés de l’origine du graphique (quadrants opposés).\n",
    "    La distance entre les variables et l’origine mesure la qualité de représentation des variables. Les variables qui sont loin de l’origine sont bien représentées par l’ACP.\n"
   ]
  },
  {
   "cell_type": "markdown",
   "metadata": {},
   "source": [
    "##     Représentation des individus par les plans factoriels\n"
   ]
  },
  {
   "cell_type": "code",
   "execution_count": 34,
   "metadata": {},
   "outputs": [
    {
     "data": {
      "image/png": "[encoded data removed]",
      "text/plain": [
       "<Figure size 566.125x504 with 1 Axes>"
      ]
     },
     "metadata": {},
     "output_type": "display_data"
    }
   ],
   "source": [
    "g = sns.lmplot('PC1',\n",
    "               'PC2',\n",
    "               hue='is_genuine',data=data_acp_ind,\n",
    "               fit_reg=False,\n",
    "               scatter=True,\n",
    "               size=7)\n",
    "plt.title('ACP jeu de données entrainement')\n",
    "\n",
    "g.savefig('../presentation/images/acp_data_training')\n"
   ]
  },
  {
   "cell_type": "markdown",
   "metadata": {},
   "source": [
    "## La contribution des variables\n"
   ]
  },
  {
   "cell_type": "code",
   "execution_count": 35,
   "metadata": {},
   "outputs": [
    {
     "data": {
      "text/plain": [
       "array([0.47447921, 0.21957106, 0.14234524])"
      ]
     },
     "execution_count": 35,
     "metadata": {},
     "output_type": "execute_result"
    }
   ],
   "source": [
    "pca.explained_variance_ratio_"
   ]
  },
  {
   "cell_type": "code",
   "execution_count": 36,
   "metadata": {},
   "outputs": [
    {
     "data": {
      "text/html": [
       "<div>\n",
       "<style scoped>\n",
       "    .dataframe tbody tr th:only-of-type {\n",
       "        vertical-align: middle;\n",
       "    }\n",
       "\n",
       "    .dataframe tbody tr th {\n",
       "        vertical-align: top;\n",
       "    }\n",
       "\n",
       "    .dataframe thead th {\n",
       "        text-align: right;\n",
       "    }\n",
       "</style>\n",
       "<table border=\"1\" class=\"dataframe\">\n",
       "  <thead>\n",
       "    <tr style=\"text-align: right;\">\n",
       "      <th></th>\n",
       "      <th>principal component 1</th>\n",
       "      <th>principal component 2</th>\n",
       "      <th>Other component</th>\n",
       "    </tr>\n",
       "  </thead>\n",
       "  <tbody>\n",
       "    <tr>\n",
       "      <th>length</th>\n",
       "      <td>0.124000</td>\n",
       "      <td>0.897507</td>\n",
       "      <td>-0.082395</td>\n",
       "    </tr>\n",
       "    <tr>\n",
       "      <th>height_left</th>\n",
       "      <td>0.804670</td>\n",
       "      <td>0.390539</td>\n",
       "      <td>0.113785</td>\n",
       "    </tr>\n",
       "    <tr>\n",
       "      <th>height_right</th>\n",
       "      <td>0.832286</td>\n",
       "      <td>0.271153</td>\n",
       "      <td>0.142584</td>\n",
       "    </tr>\n",
       "    <tr>\n",
       "      <th>margin_low</th>\n",
       "      <td>0.729406</td>\n",
       "      <td>-0.368997</td>\n",
       "      <td>0.475316</td>\n",
       "    </tr>\n",
       "    <tr>\n",
       "      <th>margin_up</th>\n",
       "      <td>0.596587</td>\n",
       "      <td>-0.162455</td>\n",
       "      <td>-0.761115</td>\n",
       "    </tr>\n",
       "    <tr>\n",
       "      <th>diagonal</th>\n",
       "      <td>-0.787529</td>\n",
       "      <td>0.362089</td>\n",
       "      <td>0.117635</td>\n",
       "    </tr>\n",
       "  </tbody>\n",
       "</table>\n",
       "</div>"
      ],
      "text/plain": [
       "              principal component 1  principal component 2  Other component\n",
       "length                     0.124000               0.897507        -0.082395\n",
       "height_left                0.804670               0.390539         0.113785\n",
       "height_right               0.832286               0.271153         0.142584\n",
       "margin_low                 0.729406              -0.368997         0.475316\n",
       "margin_up                  0.596587              -0.162455        -0.761115\n",
       "diagonal                  -0.787529               0.362089         0.117635"
      ]
     },
     "execution_count": 36,
     "metadata": {},
     "output_type": "execute_result"
    }
   ],
   "source": [
    "contrib_var = pca.components_.T * np.sqrt(pca.explained_variance_)\n",
    "df_contrib_var = pd.DataFrame(data = contrib_var, columns = ['principal component 1', 'principal component 2','Other component'],index=data_acp.columns)\n",
    "df_contrib_var"
   ]
  },
  {
   "cell_type": "code",
   "execution_count": 37,
   "metadata": {},
   "outputs": [
    {
     "data": {
      "image/png": "[encoded data removed]",
      "text/plain": [
       "<Figure size 504x360 with 1 Axes>"
      ]
     },
     "metadata": {},
     "output_type": "display_data"
    }
   ],
   "source": [
    "df_contrib_var_ind=df_contrib_var.abs().reset_index()\n",
    "f,ax = plt.subplots(figsize=(7,5))\n",
    "contrib_var_plot_1 = sns.barplot(x='index',y='principal component 1',data=df_contrib_var_ind,color='palegreen')\n",
    "ax.set_title('Contribution des variables à PC1 (%)')\n",
    "ax.set_ylabel('Contribution à PC1')\n",
    "ax.set_xlabel('Variables')\n",
    "\n",
    "f.savefig('../presentation/images/contrib_var_pc1')\n"
   ]
  },
  {
   "cell_type": "code",
   "execution_count": 38,
   "metadata": {},
   "outputs": [
    {
     "data": {
      "image/png": "[encoded data removed]",
      "text/plain": [
       "<Figure size 504x360 with 1 Axes>"
      ]
     },
     "metadata": {},
     "output_type": "display_data"
    }
   ],
   "source": [
    "f,ax = plt.subplots(figsize=(7,5))\n",
    "contrib_plot = sns.barplot(x='index',y='principal component 2',data=df_contrib_var_ind,color='seagreen')\n",
    "ax.set_title('Contribution des variables à PC2 (%)')\n",
    "ax.set_ylabel('Contribution à PC2')\n",
    "ax.set_xlabel('Variables')\n",
    "\n",
    "f.savefig('../presentation/images/contrib_var_pc2')\n"
   ]
  },
  {
   "cell_type": "markdown",
   "metadata": {},
   "source": [
    "## Analyser la qualité de représentation de la variable\n",
    "\n"
   ]
  },
  {
   "cell_type": "markdown",
   "metadata": {},
   "source": [
    "La qualité de représentation des variables sur la carte de l’ACP s’appelle cos2 (cosinus carré).\n",
    "\n",
    "\n",
    "Notez que,\n",
    "\n",
    "    Un cos2 élevé indique une bonne représentation de la variable sur les axes principaux en considération. Dans ce cas, la variable est positionnée à proximité de la circonférence du cercle de corrélation.\n",
    "\n",
    "    Un faible cos2 indique que la variable n’est pas parfaitement représentée par les axes principaux. Dans ce cas, la variable est proche du centre du cercle.\n",
    "\n"
   ]
  },
  {
   "cell_type": "code",
   "execution_count": 39,
   "metadata": {},
   "outputs": [
    {
     "data": {
      "text/html": [
       "<div>\n",
       "<style scoped>\n",
       "    .dataframe tbody tr th:only-of-type {\n",
       "        vertical-align: middle;\n",
       "    }\n",
       "\n",
       "    .dataframe tbody tr th {\n",
       "        vertical-align: top;\n",
       "    }\n",
       "\n",
       "    .dataframe thead th {\n",
       "        text-align: right;\n",
       "    }\n",
       "</style>\n",
       "<table border=\"1\" class=\"dataframe\">\n",
       "  <thead>\n",
       "    <tr style=\"text-align: right;\">\n",
       "      <th></th>\n",
       "      <th>principal component 1</th>\n",
       "      <th>principal component 2</th>\n",
       "      <th>Other component</th>\n",
       "    </tr>\n",
       "  </thead>\n",
       "  <tbody>\n",
       "    <tr>\n",
       "      <th>length</th>\n",
       "      <td>0.005369</td>\n",
       "      <td>0.607837</td>\n",
       "      <td>0.007902</td>\n",
       "    </tr>\n",
       "    <tr>\n",
       "      <th>height_left</th>\n",
       "      <td>0.226102</td>\n",
       "      <td>0.115091</td>\n",
       "      <td>0.015070</td>\n",
       "    </tr>\n",
       "    <tr>\n",
       "      <th>height_right</th>\n",
       "      <td>0.241888</td>\n",
       "      <td>0.055480</td>\n",
       "      <td>0.023664</td>\n",
       "    </tr>\n",
       "    <tr>\n",
       "      <th>margin_low</th>\n",
       "      <td>0.185784</td>\n",
       "      <td>0.102744</td>\n",
       "      <td>0.262972</td>\n",
       "    </tr>\n",
       "    <tr>\n",
       "      <th>margin_up</th>\n",
       "      <td>0.124284</td>\n",
       "      <td>0.019915</td>\n",
       "      <td>0.674285</td>\n",
       "    </tr>\n",
       "    <tr>\n",
       "      <th>diagonal</th>\n",
       "      <td>0.216572</td>\n",
       "      <td>0.098933</td>\n",
       "      <td>0.016107</td>\n",
       "    </tr>\n",
       "  </tbody>\n",
       "</table>\n",
       "</div>"
      ],
      "text/plain": [
       "              principal component 1  principal component 2  Other component\n",
       "length                     0.005369               0.607837         0.007902\n",
       "height_left                0.226102               0.115091         0.015070\n",
       "height_right               0.241888               0.055480         0.023664\n",
       "margin_low                 0.185784               0.102744         0.262972\n",
       "margin_up                  0.124284               0.019915         0.674285\n",
       "diagonal                   0.216572               0.098933         0.016107"
      ]
     },
     "execution_count": 39,
     "metadata": {},
     "output_type": "execute_result"
    }
   ],
   "source": [
    "total = np.square(df_contrib_var).sum()\n",
    "qual_repre_var = np.square(df_contrib_var)/total\n",
    "qual_repre_var"
   ]
  },
  {
   "cell_type": "code",
   "execution_count": 40,
   "metadata": {},
   "outputs": [
    {
     "data": {
      "image/png": "[encoded data removed]",
      "text/plain": [
       "<Figure size 504x360 with 1 Axes>"
      ]
     },
     "metadata": {},
     "output_type": "display_data"
    }
   ],
   "source": [
    "qual_repre_var_ind=qual_repre_var.reset_index()\n",
    "\n",
    "f,ax = plt.subplots(figsize=(7,5))\n",
    "qual_plot = sns.barplot(x='index',y='principal component 1',data=qual_repre_var_ind,color='palegreen')\n",
    "ax.set_title('Qualité de représentation des variables à PC1 (cos2)')\n",
    "ax.set_ylabel('Qualité de représentation de PC1')\n",
    "ax.set_xlabel('Variables')\n",
    "\n",
    "f.savefig('../presentation/images/qual_var_pc1')\n"
   ]
  },
  {
   "cell_type": "code",
   "execution_count": 41,
   "metadata": {},
   "outputs": [
    {
     "data": {
      "image/png": "[encoded data removed]",
      "text/plain": [
       "<Figure size 504x360 with 1 Axes>"
      ]
     },
     "metadata": {},
     "output_type": "display_data"
    }
   ],
   "source": [
    "f,ax = plt.subplots(figsize=(7,5))\n",
    "qual_plot = sns.barplot(x='index',y='principal component 2',data=qual_repre_var_ind,color='seagreen')\n",
    "ax.set_title('Qualité de représentation des variables à PC2 (cos2)')\n",
    "ax.set_ylabel('Qualité de représentation de PC2')\n",
    "ax.set_xlabel('Variables')\n",
    "\n",
    "f.savefig('../presentation/images/qual_var_pc2')\n"
   ]
  },
  {
   "cell_type": "markdown",
   "metadata": {},
   "source": [
    "Lorsque l’angle est proche de 0, c'est-à-dire que le cosinus est proche de 1, la variable est bien représentée. \n",
    "Dans le cas inverse, l’angle est proche de 90°et le cosinus est proche de 0. "
   ]
  },
  {
   "cell_type": "markdown",
   "metadata": {},
   "source": [
    "## La contribution des individus "
   ]
  },
  {
   "cell_type": "code",
   "execution_count": 42,
   "metadata": {},
   "outputs": [
    {
     "data": {
      "text/html": [
       "<div>\n",
       "<style scoped>\n",
       "    .dataframe tbody tr th:only-of-type {\n",
       "        vertical-align: middle;\n",
       "    }\n",
       "\n",
       "    .dataframe tbody tr th {\n",
       "        vertical-align: top;\n",
       "    }\n",
       "\n",
       "    .dataframe thead th {\n",
       "        text-align: right;\n",
       "    }\n",
       "</style>\n",
       "<table border=\"1\" class=\"dataframe\">\n",
       "  <thead>\n",
       "    <tr style=\"text-align: right;\">\n",
       "      <th></th>\n",
       "      <th>PC1</th>\n",
       "      <th>PC2</th>\n",
       "      <th>PC3</th>\n",
       "    </tr>\n",
       "    <tr>\n",
       "      <th>is_genuine</th>\n",
       "      <th></th>\n",
       "      <th></th>\n",
       "      <th></th>\n",
       "    </tr>\n",
       "  </thead>\n",
       "  <tbody>\n",
       "    <tr>\n",
       "      <th>True</th>\n",
       "      <td>0.057502</td>\n",
       "      <td>0.068558</td>\n",
       "      <td>0.132031</td>\n",
       "    </tr>\n",
       "    <tr>\n",
       "      <th>True</th>\n",
       "      <td>0.055217</td>\n",
       "      <td>0.007413</td>\n",
       "      <td>0.012165</td>\n",
       "    </tr>\n",
       "    <tr>\n",
       "      <th>True</th>\n",
       "      <td>0.048268</td>\n",
       "      <td>0.000062</td>\n",
       "      <td>0.030472</td>\n",
       "    </tr>\n",
       "    <tr>\n",
       "      <th>True</th>\n",
       "      <td>0.052600</td>\n",
       "      <td>0.000213</td>\n",
       "      <td>0.011675</td>\n",
       "    </tr>\n",
       "    <tr>\n",
       "      <th>True</th>\n",
       "      <td>0.071599</td>\n",
       "      <td>0.004551</td>\n",
       "      <td>0.455360</td>\n",
       "    </tr>\n",
       "    <tr>\n",
       "      <th>True</th>\n",
       "      <td>0.018929</td>\n",
       "      <td>0.238418</td>\n",
       "      <td>0.037536</td>\n",
       "    </tr>\n",
       "    <tr>\n",
       "      <th>True</th>\n",
       "      <td>0.053606</td>\n",
       "      <td>0.035306</td>\n",
       "      <td>0.001212</td>\n",
       "    </tr>\n",
       "    <tr>\n",
       "      <th>True</th>\n",
       "      <td>0.085357</td>\n",
       "      <td>0.028984</td>\n",
       "      <td>0.047232</td>\n",
       "    </tr>\n",
       "    <tr>\n",
       "      <th>True</th>\n",
       "      <td>0.037376</td>\n",
       "      <td>0.001388</td>\n",
       "      <td>0.054348</td>\n",
       "    </tr>\n",
       "    <tr>\n",
       "      <th>True</th>\n",
       "      <td>0.006561</td>\n",
       "      <td>0.030322</td>\n",
       "      <td>0.020536</td>\n",
       "    </tr>\n",
       "    <tr>\n",
       "      <th>True</th>\n",
       "      <td>0.003048</td>\n",
       "      <td>0.080968</td>\n",
       "      <td>0.095675</td>\n",
       "    </tr>\n",
       "    <tr>\n",
       "      <th>True</th>\n",
       "      <td>0.054167</td>\n",
       "      <td>0.004652</td>\n",
       "      <td>0.027430</td>\n",
       "    </tr>\n",
       "    <tr>\n",
       "      <th>True</th>\n",
       "      <td>0.000318</td>\n",
       "      <td>0.054839</td>\n",
       "      <td>0.018720</td>\n",
       "    </tr>\n",
       "    <tr>\n",
       "      <th>True</th>\n",
       "      <td>0.028305</td>\n",
       "      <td>0.000739</td>\n",
       "      <td>0.034797</td>\n",
       "    </tr>\n",
       "    <tr>\n",
       "      <th>True</th>\n",
       "      <td>0.019137</td>\n",
       "      <td>0.009714</td>\n",
       "      <td>0.031566</td>\n",
       "    </tr>\n",
       "    <tr>\n",
       "      <th>True</th>\n",
       "      <td>0.038112</td>\n",
       "      <td>0.006769</td>\n",
       "      <td>0.197580</td>\n",
       "    </tr>\n",
       "    <tr>\n",
       "      <th>True</th>\n",
       "      <td>0.018249</td>\n",
       "      <td>0.000034</td>\n",
       "      <td>0.020518</td>\n",
       "    </tr>\n",
       "    <tr>\n",
       "      <th>True</th>\n",
       "      <td>0.034358</td>\n",
       "      <td>0.008943</td>\n",
       "      <td>0.089882</td>\n",
       "    </tr>\n",
       "    <tr>\n",
       "      <th>True</th>\n",
       "      <td>0.027279</td>\n",
       "      <td>0.003543</td>\n",
       "      <td>0.192019</td>\n",
       "    </tr>\n",
       "    <tr>\n",
       "      <th>True</th>\n",
       "      <td>0.007038</td>\n",
       "      <td>0.002137</td>\n",
       "      <td>0.008097</td>\n",
       "    </tr>\n",
       "    <tr>\n",
       "      <th>True</th>\n",
       "      <td>0.039292</td>\n",
       "      <td>0.000063</td>\n",
       "      <td>0.000070</td>\n",
       "    </tr>\n",
       "    <tr>\n",
       "      <th>True</th>\n",
       "      <td>0.000012</td>\n",
       "      <td>0.150907</td>\n",
       "      <td>0.000146</td>\n",
       "    </tr>\n",
       "    <tr>\n",
       "      <th>True</th>\n",
       "      <td>0.001343</td>\n",
       "      <td>0.076356</td>\n",
       "      <td>0.003377</td>\n",
       "    </tr>\n",
       "    <tr>\n",
       "      <th>True</th>\n",
       "      <td>0.000527</td>\n",
       "      <td>0.142090</td>\n",
       "      <td>0.018081</td>\n",
       "    </tr>\n",
       "    <tr>\n",
       "      <th>True</th>\n",
       "      <td>0.018624</td>\n",
       "      <td>0.009555</td>\n",
       "      <td>0.051585</td>\n",
       "    </tr>\n",
       "    <tr>\n",
       "      <th>True</th>\n",
       "      <td>0.000699</td>\n",
       "      <td>0.095081</td>\n",
       "      <td>0.008537</td>\n",
       "    </tr>\n",
       "    <tr>\n",
       "      <th>True</th>\n",
       "      <td>0.006589</td>\n",
       "      <td>0.114995</td>\n",
       "      <td>0.028687</td>\n",
       "    </tr>\n",
       "    <tr>\n",
       "      <th>True</th>\n",
       "      <td>0.000082</td>\n",
       "      <td>0.025074</td>\n",
       "      <td>0.096527</td>\n",
       "    </tr>\n",
       "    <tr>\n",
       "      <th>True</th>\n",
       "      <td>0.011257</td>\n",
       "      <td>0.039951</td>\n",
       "      <td>0.015562</td>\n",
       "    </tr>\n",
       "    <tr>\n",
       "      <th>True</th>\n",
       "      <td>0.108533</td>\n",
       "      <td>0.000226</td>\n",
       "      <td>0.045629</td>\n",
       "    </tr>\n",
       "    <tr>\n",
       "      <th>...</th>\n",
       "      <td>...</td>\n",
       "      <td>...</td>\n",
       "      <td>...</td>\n",
       "    </tr>\n",
       "    <tr>\n",
       "      <th>False</th>\n",
       "      <td>0.051921</td>\n",
       "      <td>0.013101</td>\n",
       "      <td>0.051776</td>\n",
       "    </tr>\n",
       "    <tr>\n",
       "      <th>False</th>\n",
       "      <td>0.000540</td>\n",
       "      <td>0.075614</td>\n",
       "      <td>0.007463</td>\n",
       "    </tr>\n",
       "    <tr>\n",
       "      <th>False</th>\n",
       "      <td>0.070571</td>\n",
       "      <td>0.056595</td>\n",
       "      <td>0.011774</td>\n",
       "    </tr>\n",
       "    <tr>\n",
       "      <th>False</th>\n",
       "      <td>0.063628</td>\n",
       "      <td>0.001071</td>\n",
       "      <td>0.000001</td>\n",
       "    </tr>\n",
       "    <tr>\n",
       "      <th>False</th>\n",
       "      <td>0.002350</td>\n",
       "      <td>0.064775</td>\n",
       "      <td>0.087757</td>\n",
       "    </tr>\n",
       "    <tr>\n",
       "      <th>False</th>\n",
       "      <td>0.034118</td>\n",
       "      <td>0.004874</td>\n",
       "      <td>0.111405</td>\n",
       "    </tr>\n",
       "    <tr>\n",
       "      <th>False</th>\n",
       "      <td>0.088699</td>\n",
       "      <td>0.002997</td>\n",
       "      <td>0.026585</td>\n",
       "    </tr>\n",
       "    <tr>\n",
       "      <th>False</th>\n",
       "      <td>0.090512</td>\n",
       "      <td>0.010670</td>\n",
       "      <td>0.035852</td>\n",
       "    </tr>\n",
       "    <tr>\n",
       "      <th>False</th>\n",
       "      <td>0.027052</td>\n",
       "      <td>0.041535</td>\n",
       "      <td>0.001639</td>\n",
       "    </tr>\n",
       "    <tr>\n",
       "      <th>False</th>\n",
       "      <td>0.018652</td>\n",
       "      <td>0.025711</td>\n",
       "      <td>0.125017</td>\n",
       "    </tr>\n",
       "    <tr>\n",
       "      <th>False</th>\n",
       "      <td>0.018011</td>\n",
       "      <td>0.003168</td>\n",
       "      <td>0.045027</td>\n",
       "    </tr>\n",
       "    <tr>\n",
       "      <th>False</th>\n",
       "      <td>0.019505</td>\n",
       "      <td>0.161533</td>\n",
       "      <td>0.043225</td>\n",
       "    </tr>\n",
       "    <tr>\n",
       "      <th>False</th>\n",
       "      <td>0.000230</td>\n",
       "      <td>0.113459</td>\n",
       "      <td>0.012780</td>\n",
       "    </tr>\n",
       "    <tr>\n",
       "      <th>False</th>\n",
       "      <td>0.041993</td>\n",
       "      <td>0.115654</td>\n",
       "      <td>0.076938</td>\n",
       "    </tr>\n",
       "    <tr>\n",
       "      <th>False</th>\n",
       "      <td>0.041338</td>\n",
       "      <td>0.068771</td>\n",
       "      <td>0.003976</td>\n",
       "    </tr>\n",
       "    <tr>\n",
       "      <th>False</th>\n",
       "      <td>0.043613</td>\n",
       "      <td>0.006005</td>\n",
       "      <td>0.024492</td>\n",
       "    </tr>\n",
       "    <tr>\n",
       "      <th>False</th>\n",
       "      <td>0.001269</td>\n",
       "      <td>0.193583</td>\n",
       "      <td>0.017672</td>\n",
       "    </tr>\n",
       "    <tr>\n",
       "      <th>False</th>\n",
       "      <td>0.015978</td>\n",
       "      <td>0.085159</td>\n",
       "      <td>0.023168</td>\n",
       "    </tr>\n",
       "    <tr>\n",
       "      <th>False</th>\n",
       "      <td>0.095016</td>\n",
       "      <td>0.014540</td>\n",
       "      <td>0.166665</td>\n",
       "    </tr>\n",
       "    <tr>\n",
       "      <th>False</th>\n",
       "      <td>0.072234</td>\n",
       "      <td>0.018386</td>\n",
       "      <td>0.137064</td>\n",
       "    </tr>\n",
       "    <tr>\n",
       "      <th>False</th>\n",
       "      <td>0.010935</td>\n",
       "      <td>0.014747</td>\n",
       "      <td>0.300578</td>\n",
       "    </tr>\n",
       "    <tr>\n",
       "      <th>False</th>\n",
       "      <td>0.034373</td>\n",
       "      <td>0.003565</td>\n",
       "      <td>0.015895</td>\n",
       "    </tr>\n",
       "    <tr>\n",
       "      <th>False</th>\n",
       "      <td>0.020476</td>\n",
       "      <td>0.055294</td>\n",
       "      <td>0.022239</td>\n",
       "    </tr>\n",
       "    <tr>\n",
       "      <th>False</th>\n",
       "      <td>0.043640</td>\n",
       "      <td>0.044758</td>\n",
       "      <td>0.005781</td>\n",
       "    </tr>\n",
       "    <tr>\n",
       "      <th>False</th>\n",
       "      <td>0.020031</td>\n",
       "      <td>0.087244</td>\n",
       "      <td>0.047304</td>\n",
       "    </tr>\n",
       "    <tr>\n",
       "      <th>False</th>\n",
       "      <td>0.076165</td>\n",
       "      <td>0.000967</td>\n",
       "      <td>0.027422</td>\n",
       "    </tr>\n",
       "    <tr>\n",
       "      <th>False</th>\n",
       "      <td>0.082864</td>\n",
       "      <td>0.227560</td>\n",
       "      <td>0.014229</td>\n",
       "    </tr>\n",
       "    <tr>\n",
       "      <th>False</th>\n",
       "      <td>0.052981</td>\n",
       "      <td>0.019156</td>\n",
       "      <td>0.015391</td>\n",
       "    </tr>\n",
       "    <tr>\n",
       "      <th>False</th>\n",
       "      <td>0.006775</td>\n",
       "      <td>0.025361</td>\n",
       "      <td>0.076408</td>\n",
       "    </tr>\n",
       "    <tr>\n",
       "      <th>False</th>\n",
       "      <td>0.028080</td>\n",
       "      <td>0.031232</td>\n",
       "      <td>0.001474</td>\n",
       "    </tr>\n",
       "  </tbody>\n",
       "</table>\n",
       "<p>170 rows × 3 columns</p>\n",
       "</div>"
      ],
      "text/plain": [
       "                 PC1       PC2       PC3\n",
       "is_genuine                              \n",
       "True        0.057502  0.068558  0.132031\n",
       "True        0.055217  0.007413  0.012165\n",
       "True        0.048268  0.000062  0.030472\n",
       "True        0.052600  0.000213  0.011675\n",
       "True        0.071599  0.004551  0.455360\n",
       "True        0.018929  0.238418  0.037536\n",
       "True        0.053606  0.035306  0.001212\n",
       "True        0.085357  0.028984  0.047232\n",
       "True        0.037376  0.001388  0.054348\n",
       "True        0.006561  0.030322  0.020536\n",
       "True        0.003048  0.080968  0.095675\n",
       "True        0.054167  0.004652  0.027430\n",
       "True        0.000318  0.054839  0.018720\n",
       "True        0.028305  0.000739  0.034797\n",
       "True        0.019137  0.009714  0.031566\n",
       "True        0.038112  0.006769  0.197580\n",
       "True        0.018249  0.000034  0.020518\n",
       "True        0.034358  0.008943  0.089882\n",
       "True        0.027279  0.003543  0.192019\n",
       "True        0.007038  0.002137  0.008097\n",
       "True        0.039292  0.000063  0.000070\n",
       "True        0.000012  0.150907  0.000146\n",
       "True        0.001343  0.076356  0.003377\n",
       "True        0.000527  0.142090  0.018081\n",
       "True        0.018624  0.009555  0.051585\n",
       "True        0.000699  0.095081  0.008537\n",
       "True        0.006589  0.114995  0.028687\n",
       "True        0.000082  0.025074  0.096527\n",
       "True        0.011257  0.039951  0.015562\n",
       "True        0.108533  0.000226  0.045629\n",
       "...              ...       ...       ...\n",
       "False       0.051921  0.013101  0.051776\n",
       "False       0.000540  0.075614  0.007463\n",
       "False       0.070571  0.056595  0.011774\n",
       "False       0.063628  0.001071  0.000001\n",
       "False       0.002350  0.064775  0.087757\n",
       "False       0.034118  0.004874  0.111405\n",
       "False       0.088699  0.002997  0.026585\n",
       "False       0.090512  0.010670  0.035852\n",
       "False       0.027052  0.041535  0.001639\n",
       "False       0.018652  0.025711  0.125017\n",
       "False       0.018011  0.003168  0.045027\n",
       "False       0.019505  0.161533  0.043225\n",
       "False       0.000230  0.113459  0.012780\n",
       "False       0.041993  0.115654  0.076938\n",
       "False       0.041338  0.068771  0.003976\n",
       "False       0.043613  0.006005  0.024492\n",
       "False       0.001269  0.193583  0.017672\n",
       "False       0.015978  0.085159  0.023168\n",
       "False       0.095016  0.014540  0.166665\n",
       "False       0.072234  0.018386  0.137064\n",
       "False       0.010935  0.014747  0.300578\n",
       "False       0.034373  0.003565  0.015895\n",
       "False       0.020476  0.055294  0.022239\n",
       "False       0.043640  0.044758  0.005781\n",
       "False       0.020031  0.087244  0.047304\n",
       "False       0.076165  0.000967  0.027422\n",
       "False       0.082864  0.227560  0.014229\n",
       "False       0.052981  0.019156  0.015391\n",
       "False       0.006775  0.025361  0.076408\n",
       "False       0.028080  0.031232  0.001474\n",
       "\n",
       "[170 rows x 3 columns]"
      ]
     },
     "execution_count": 42,
     "metadata": {},
     "output_type": "execute_result"
    }
   ],
   "source": [
    "#http://maths.cnam.fr/IMG/pdf/A-C-P-.pdf\n",
    "valeur_contrib_indiv = np.square(reduction)/data_acp.shape[0]/pca.explained_variance_ratio_\n",
    "df_contrib_indiv = pd.DataFrame(valeur_contrib_indiv,columns=['PC1','PC2','PC3'])\n",
    "df_contrib_indiv['is_genuine'] = data_acp_ind['is_genuine']\n",
    "df_contrib_indiv.index = df_contrib_indiv['is_genuine']\n",
    "del df_contrib_indiv['is_genuine']\n",
    "df_contrib_indiv"
   ]
  },
  {
   "cell_type": "code",
   "execution_count": 43,
   "metadata": {},
   "outputs": [],
   "source": [
    "df_contrib_indiv_plot = df_contrib_indiv.reset_index(drop=True)\n",
    "df_contrib_indiv_plot['is_genuine']=data_acp_ind['is_genuine']\n",
    "df_contrib_indiv_plot['Contrib indiv PC1 & PC2'] = df_contrib_indiv_plot['PC1'] + df_contrib_indiv_plot['PC2']\n"
   ]
  },
  {
   "cell_type": "code",
   "execution_count": 44,
   "metadata": {},
   "outputs": [],
   "source": [
    "df_contrib_indiv_plot['PC1 explained variance']=data_acp_ind['PC1']\n",
    "df_contrib_indiv_plot['PC2 explained variance']=data_acp_ind['PC2']\n"
   ]
  },
  {
   "cell_type": "code",
   "execution_count": 45,
   "metadata": {},
   "outputs": [
    {
     "data": {
      "image/png": "[encoded data removed]",
      "text/plain": [
       "<Figure size 720x720 with 1 Axes>"
      ]
     },
     "metadata": {},
     "output_type": "display_data"
    }
   ],
   "source": [
    "colors = {True : 'green',False:'Black'}\n",
    "plot_contrib_indiv_pc1_pc2 = df_contrib_indiv_plot.plot(kind='scatter', x='PC1 explained variance',\n",
    "                      y='PC2 explained variance',c=df_contrib_indiv_plot['is_genuine'].apply(lambda x: colors[x]),\n",
    "                      s=df_contrib_indiv_plot['Contrib indiv PC1 & PC2']*1000,\n",
    "                     figsize=(10,10),\n",
    "                     )\n",
    "plt.title('Contribution des individus à PC1 et PC2 (Taille = Contribution en %)')\n",
    "image= plot_contrib_indiv_pc1_pc2.get_figure()\n",
    "image.savefig('../presentation/images/contrib_indiv_PC1_PC2')"
   ]
  },
  {
   "cell_type": "markdown",
   "metadata": {},
   "source": [
    "## Analyser la qualité de représentation des individus\n",
    "\n"
   ]
  },
  {
   "cell_type": "code",
   "execution_count": 46,
   "metadata": {},
   "outputs": [],
   "source": [
    "df_contrib_indiv_sans_ind = df_contrib_indiv.reset_index(drop=True)"
   ]
  },
  {
   "cell_type": "code",
   "execution_count": 47,
   "metadata": {},
   "outputs": [
    {
     "data": {
      "text/html": [
       "<div>\n",
       "<style scoped>\n",
       "    .dataframe tbody tr th:only-of-type {\n",
       "        vertical-align: middle;\n",
       "    }\n",
       "\n",
       "    .dataframe tbody tr th {\n",
       "        vertical-align: top;\n",
       "    }\n",
       "\n",
       "    .dataframe thead th {\n",
       "        text-align: right;\n",
       "    }\n",
       "</style>\n",
       "<table border=\"1\" class=\"dataframe\">\n",
       "  <thead>\n",
       "    <tr style=\"text-align: right;\">\n",
       "      <th></th>\n",
       "      <th>PC1</th>\n",
       "      <th>PC2</th>\n",
       "      <th>PC3</th>\n",
       "    </tr>\n",
       "  </thead>\n",
       "  <tbody>\n",
       "    <tr>\n",
       "      <th>0</th>\n",
       "      <td>0.009411</td>\n",
       "      <td>8.052012e-03</td>\n",
       "      <td>0.025230</td>\n",
       "    </tr>\n",
       "    <tr>\n",
       "      <th>1</th>\n",
       "      <td>0.008678</td>\n",
       "      <td>9.414808e-05</td>\n",
       "      <td>0.000214</td>\n",
       "    </tr>\n",
       "    <tr>\n",
       "      <th>2</th>\n",
       "      <td>0.006631</td>\n",
       "      <td>6.582406e-09</td>\n",
       "      <td>0.001344</td>\n",
       "    </tr>\n",
       "    <tr>\n",
       "      <th>3</th>\n",
       "      <td>0.007875</td>\n",
       "      <td>7.750904e-08</td>\n",
       "      <td>0.000197</td>\n",
       "    </tr>\n",
       "    <tr>\n",
       "      <th>4</th>\n",
       "      <td>0.014592</td>\n",
       "      <td>3.548498e-05</td>\n",
       "      <td>0.300107</td>\n",
       "    </tr>\n",
       "  </tbody>\n",
       "</table>\n",
       "</div>"
      ],
      "text/plain": [
       "        PC1           PC2       PC3\n",
       "0  0.009411  8.052012e-03  0.025230\n",
       "1  0.008678  9.414808e-05  0.000214\n",
       "2  0.006631  6.582406e-09  0.001344\n",
       "3  0.007875  7.750904e-08  0.000197\n",
       "4  0.014592  3.548498e-05  0.300107"
      ]
     },
     "execution_count": 47,
     "metadata": {},
     "output_type": "execute_result"
    }
   ],
   "source": [
    "total = np.square(df_contrib_indiv_sans_ind).sum()\n",
    "qual_repre_indiv = np.square(df_contrib_indiv_sans_ind)/total\n",
    "qual_repre_indiv.head()"
   ]
  },
  {
   "cell_type": "code",
   "execution_count": 48,
   "metadata": {},
   "outputs": [],
   "source": [
    "qual_repre_indiv_plot = qual_repre_indiv.copy()\n",
    "qual_repre_indiv_plot['is_genuine']=data_acp_ind['is_genuine']\n",
    "qual_repre_indiv_plot['Contrib indiv PC1 & PC2'] = qual_repre_indiv_plot['PC1'] + qual_repre_indiv_plot['PC2']\n",
    "qual_repre_indiv_plot['PC1 explained variance']=data_acp_ind['PC1']\n",
    "qual_repre_indiv_plot['PC2 explained variance']=data_acp_ind['PC2']\n"
   ]
  },
  {
   "cell_type": "code",
   "execution_count": 49,
   "metadata": {},
   "outputs": [
    {
     "data": {
      "image/png": "[encoded data removed]",
      "text/plain": [
       "<Figure size 720x720 with 1 Axes>"
      ]
     },
     "metadata": {},
     "output_type": "display_data"
    }
   ],
   "source": [
    "colors = {True : 'green',False:'Black'}\n",
    "plot_qual_repre_indiv_pc1_pc2 = qual_repre_indiv_plot.plot(kind='scatter', x='PC1 explained variance',\n",
    "                      y='PC2 explained variance',c=qual_repre_indiv_plot['is_genuine'].apply(lambda x: colors[x]),\n",
    "                      s=qual_repre_indiv_plot['Contrib indiv PC1 & PC2']*10000,\n",
    "                     figsize=(10,10),\n",
    "                     )\n",
    "plt.title('Qualité de représentation des individus à PC1 et PC2 (Taille = Cos2)')\n",
    "image= plot_qual_repre_indiv_pc1_pc2.get_figure()\n",
    "image.savefig('../presentation/images/qual_repre_indiv_PC1_PC2')"
   ]
  },
  {
   "cell_type": "markdown",
   "metadata": {},
   "source": [
    "# Appliquer un algorithme de classification, puis analysez le résultat obtenu.\n",
    "\n"
   ]
  },
  {
   "cell_type": "code",
   "execution_count": 50,
   "metadata": {},
   "outputs": [],
   "source": [
    "data_cah_ind = data.copy()\n",
    "data_cah = data.copy()"
   ]
  },
  {
   "cell_type": "code",
   "execution_count": 51,
   "metadata": {},
   "outputs": [],
   "source": [
    "data_cah_ind['is_genuine'] = data_cah_ind.index\n",
    "del data_cah_ind['is_genuine']"
   ]
  },
  {
   "cell_type": "code",
   "execution_count": 52,
   "metadata": {},
   "outputs": [
    {
     "data": {
      "text/html": [
       "<div>\n",
       "<style scoped>\n",
       "    .dataframe tbody tr th:only-of-type {\n",
       "        vertical-align: middle;\n",
       "    }\n",
       "\n",
       "    .dataframe tbody tr th {\n",
       "        vertical-align: top;\n",
       "    }\n",
       "\n",
       "    .dataframe thead th {\n",
       "        text-align: right;\n",
       "    }\n",
       "</style>\n",
       "<table border=\"1\" class=\"dataframe\">\n",
       "  <thead>\n",
       "    <tr style=\"text-align: right;\">\n",
       "      <th></th>\n",
       "      <th>cluster ID</th>\n",
       "      <th>length</th>\n",
       "      <th>height_left</th>\n",
       "      <th>height_right</th>\n",
       "      <th>margin_low</th>\n",
       "      <th>margin_up</th>\n",
       "      <th>diagonal</th>\n",
       "      <th>is_genuine</th>\n",
       "    </tr>\n",
       "  </thead>\n",
       "  <tbody>\n",
       "    <tr>\n",
       "      <th>0</th>\n",
       "      <td>1</td>\n",
       "      <td>-0.428344</td>\n",
       "      <td>2.669454</td>\n",
       "      <td>3.096563</td>\n",
       "      <td>-0.131590</td>\n",
       "      <td>-1.189874</td>\n",
       "      <td>0.281633</td>\n",
       "      <td>True</td>\n",
       "    </tr>\n",
       "    <tr>\n",
       "      <th>1</th>\n",
       "      <td>0</td>\n",
       "      <td>-0.887559</td>\n",
       "      <td>-1.097697</td>\n",
       "      <td>-0.691254</td>\n",
       "      <td>-0.860126</td>\n",
       "      <td>-1.274740</td>\n",
       "      <td>0.780697</td>\n",
       "      <td>True</td>\n",
       "    </tr>\n",
       "    <tr>\n",
       "      <th>2</th>\n",
       "      <td>0</td>\n",
       "      <td>-0.362742</td>\n",
       "      <td>-1.030427</td>\n",
       "      <td>-0.509439</td>\n",
       "      <td>-0.303010</td>\n",
       "      <td>-1.232307</td>\n",
       "      <td>1.377405</td>\n",
       "      <td>True</td>\n",
       "    </tr>\n",
       "    <tr>\n",
       "      <th>3</th>\n",
       "      <td>0</td>\n",
       "      <td>-0.461145</td>\n",
       "      <td>-0.963156</td>\n",
       "      <td>-0.842767</td>\n",
       "      <td>-1.260106</td>\n",
       "      <td>-0.213913</td>\n",
       "      <td>1.149571</td>\n",
       "      <td>True</td>\n",
       "    </tr>\n",
       "    <tr>\n",
       "      <th>4</th>\n",
       "      <td>0</td>\n",
       "      <td>0.358883</td>\n",
       "      <td>-1.232238</td>\n",
       "      <td>-0.539742</td>\n",
       "      <td>0.611230</td>\n",
       "      <td>-3.820725</td>\n",
       "      <td>1.062777</td>\n",
       "      <td>True</td>\n",
       "    </tr>\n",
       "    <tr>\n",
       "      <th>5</th>\n",
       "      <td>0</td>\n",
       "      <td>2.064540</td>\n",
       "      <td>1.963113</td>\n",
       "      <td>1.551134</td>\n",
       "      <td>-0.103020</td>\n",
       "      <td>-0.765543</td>\n",
       "      <td>0.639657</td>\n",
       "      <td>True</td>\n",
       "    </tr>\n",
       "    <tr>\n",
       "      <th>6</th>\n",
       "      <td>0</td>\n",
       "      <td>1.441319</td>\n",
       "      <td>-1.736767</td>\n",
       "      <td>-0.388229</td>\n",
       "      <td>-0.917266</td>\n",
       "      <td>-1.147441</td>\n",
       "      <td>0.791547</td>\n",
       "      <td>True</td>\n",
       "    </tr>\n",
       "    <tr>\n",
       "      <th>7</th>\n",
       "      <td>0</td>\n",
       "      <td>-1.182769</td>\n",
       "      <td>-1.400415</td>\n",
       "      <td>-1.691238</td>\n",
       "      <td>-1.531521</td>\n",
       "      <td>0.083119</td>\n",
       "      <td>0.878340</td>\n",
       "      <td>True</td>\n",
       "    </tr>\n",
       "    <tr>\n",
       "      <th>8</th>\n",
       "      <td>0</td>\n",
       "      <td>0.063673</td>\n",
       "      <td>-1.871308</td>\n",
       "      <td>-0.539742</td>\n",
       "      <td>-0.788700</td>\n",
       "      <td>0.677182</td>\n",
       "      <td>1.041079</td>\n",
       "      <td>True</td>\n",
       "    </tr>\n",
       "    <tr>\n",
       "      <th>9</th>\n",
       "      <td>0</td>\n",
       "      <td>0.654093</td>\n",
       "      <td>0.920419</td>\n",
       "      <td>0.823873</td>\n",
       "      <td>0.025545</td>\n",
       "      <td>-0.638244</td>\n",
       "      <td>-0.108939</td>\n",
       "      <td>True</td>\n",
       "    </tr>\n",
       "  </tbody>\n",
       "</table>\n",
       "</div>"
      ],
      "text/plain": [
       "   cluster ID    length  height_left  height_right  margin_low  margin_up  \\\n",
       "0           1 -0.428344     2.669454      3.096563   -0.131590  -1.189874   \n",
       "1           0 -0.887559    -1.097697     -0.691254   -0.860126  -1.274740   \n",
       "2           0 -0.362742    -1.030427     -0.509439   -0.303010  -1.232307   \n",
       "3           0 -0.461145    -0.963156     -0.842767   -1.260106  -0.213913   \n",
       "4           0  0.358883    -1.232238     -0.539742    0.611230  -3.820725   \n",
       "5           0  2.064540     1.963113      1.551134   -0.103020  -0.765543   \n",
       "6           0  1.441319    -1.736767     -0.388229   -0.917266  -1.147441   \n",
       "7           0 -1.182769    -1.400415     -1.691238   -1.531521   0.083119   \n",
       "8           0  0.063673    -1.871308     -0.539742   -0.788700   0.677182   \n",
       "9           0  0.654093     0.920419      0.823873    0.025545  -0.638244   \n",
       "\n",
       "   diagonal  is_genuine  \n",
       "0  0.281633        True  \n",
       "1  0.780697        True  \n",
       "2  1.377405        True  \n",
       "3  1.149571        True  \n",
       "4  1.062777        True  \n",
       "5  0.639657        True  \n",
       "6  0.791547        True  \n",
       "7  0.878340        True  \n",
       "8  1.041079        True  \n",
       "9 -0.108939        True  "
      ]
     },
     "execution_count": 52,
     "metadata": {},
     "output_type": "execute_result"
    }
   ],
   "source": [
    "X = data_cah_ind.values\n",
    "\n",
    "\n",
    "cah = AgglomerativeClustering(n_clusters=2)\n",
    "Y = pd.DataFrame(cah.fit_predict(X), columns=['cluster ID'])\n",
    "result_cah = pd.concat([Y, data_cah], axis=1)\n",
    "result_cah.head(10)"
   ]
  },
  {
   "cell_type": "markdown",
   "metadata": {},
   "source": [
    "# Visualisez la partition obtenue dans le premier plan factoriel de l'ACP, puis analysez-la. "
   ]
  },
  {
   "cell_type": "code",
   "execution_count": 53,
   "metadata": {},
   "outputs": [],
   "source": [
    "a=data_acp_ind\n",
    "b = a.join(result_cah['cluster ID'])\n"
   ]
  },
  {
   "cell_type": "markdown",
   "metadata": {},
   "source": [
    "## Score réussite"
   ]
  },
  {
   "cell_type": "code",
   "execution_count": 54,
   "metadata": {},
   "outputs": [],
   "source": [
    "b['etiquette_cah'] = b['cluster ID'] == 0"
   ]
  },
  {
   "cell_type": "code",
   "execution_count": 55,
   "metadata": {},
   "outputs": [
    {
     "data": {
      "text/html": [
       "<div>\n",
       "<style scoped>\n",
       "    .dataframe tbody tr th:only-of-type {\n",
       "        vertical-align: middle;\n",
       "    }\n",
       "\n",
       "    .dataframe tbody tr th {\n",
       "        vertical-align: top;\n",
       "    }\n",
       "\n",
       "    .dataframe thead th {\n",
       "        text-align: right;\n",
       "    }\n",
       "</style>\n",
       "<table border=\"1\" class=\"dataframe\">\n",
       "  <thead>\n",
       "    <tr style=\"text-align: right;\">\n",
       "      <th>etiquette_cah</th>\n",
       "      <th>False</th>\n",
       "      <th>True</th>\n",
       "      <th>Total</th>\n",
       "    </tr>\n",
       "    <tr>\n",
       "      <th>is_genuine</th>\n",
       "      <th></th>\n",
       "      <th></th>\n",
       "      <th></th>\n",
       "    </tr>\n",
       "  </thead>\n",
       "  <tbody>\n",
       "    <tr>\n",
       "      <th>False</th>\n",
       "      <td>69.0</td>\n",
       "      <td>1.0</td>\n",
       "      <td>70.0</td>\n",
       "    </tr>\n",
       "    <tr>\n",
       "      <th>True</th>\n",
       "      <td>2.0</td>\n",
       "      <td>98.0</td>\n",
       "      <td>100.0</td>\n",
       "    </tr>\n",
       "    <tr>\n",
       "      <th>total</th>\n",
       "      <td>71.0</td>\n",
       "      <td>99.0</td>\n",
       "      <td>170.0</td>\n",
       "    </tr>\n",
       "  </tbody>\n",
       "</table>\n",
       "</div>"
      ],
      "text/plain": [
       "etiquette_cah  False  True  Total\n",
       "is_genuine                       \n",
       "False           69.0   1.0   70.0\n",
       "True             2.0  98.0  100.0\n",
       "total           71.0  99.0  170.0"
      ]
     },
     "execution_count": 55,
     "metadata": {},
     "output_type": "execute_result"
    }
   ],
   "source": [
    "X = \"is_genuine\"\n",
    "\n",
    "Y = \"etiquette_cah\"\n",
    "\n",
    "\n",
    "c = b[[X,Y]].pivot_table(index=X,columns=Y,aggfunc=len)\n",
    "\n",
    "cont = c.copy()\n",
    "\n",
    "\n",
    "tx = b[X].value_counts()\n",
    "\n",
    "ty = b[Y].value_counts()\n",
    "\n",
    "\n",
    "cont.loc[:,\"Total\"] = tx\n",
    "\n",
    "cont.loc[\"total\",:] = ty\n",
    "\n",
    "cont.loc[\"total\",\"Total\"] = len(data)\n",
    "\n",
    "cont"
   ]
  },
  {
   "cell_type": "markdown",
   "metadata": {},
   "source": [
    "2 False Positive <br/>\n",
    "1 False negative <br/>"
   ]
  },
  {
   "cell_type": "code",
   "execution_count": 56,
   "metadata": {},
   "outputs": [
    {
     "data": {
      "image/png": "[encoded data removed]",
      "text/plain": [
       "<Figure size 576x576 with 1 Axes>"
      ]
     },
     "metadata": {},
     "output_type": "display_data"
    }
   ],
   "source": [
    "fig = plt.figure(figsize = (8,8))\n",
    "ax = fig.add_subplot(1,1,1) \n",
    "ax.set_xlabel(\"PC 1\", fontsize = 15)\n",
    "ax.set_ylabel(\"PC 2\", fontsize = 15)\n",
    "ax.set_title('Analyse par composante billets (2 groupes)', fontsize = 20)\n",
    "\n",
    "targets = [0,1]\n",
    "colors = ['r', 'g']\n",
    "\n",
    "for target, color in zip(targets,colors):\n",
    "    indicesToKeep = b['cluster ID'] == target\n",
    "    ax.scatter(b.loc[indicesToKeep, 'PC1']\n",
    "               , b.loc[indicesToKeep, 'PC2']\n",
    "               , c = color\n",
    "               , s = 50)\n",
    "ax.legend(targets)\n",
    "ax.grid()\n",
    "\n",
    "#fig.savefig\n",
    "\n",
    "\n",
    "\n"
   ]
  },
  {
   "cell_type": "markdown",
   "metadata": {},
   "source": [
    "# Appliquer un algorithme de classification (Kmeans), puis analysez le résultat obtenu.\n",
    "\n"
   ]
  },
  {
   "cell_type": "code",
   "execution_count": 57,
   "metadata": {},
   "outputs": [],
   "source": [
    "data_kmeans_ind = data.copy()\n",
    "data_kmeans = data.copy()"
   ]
  },
  {
   "cell_type": "code",
   "execution_count": 58,
   "metadata": {},
   "outputs": [],
   "source": [
    "data_kmeans_ind['is_genuine'] = data_kmeans_ind.index\n",
    "del data_kmeans_ind['is_genuine']"
   ]
  },
  {
   "cell_type": "code",
   "execution_count": 59,
   "metadata": {},
   "outputs": [
    {
     "data": {
      "text/html": [
       "<div>\n",
       "<style scoped>\n",
       "    .dataframe tbody tr th:only-of-type {\n",
       "        vertical-align: middle;\n",
       "    }\n",
       "\n",
       "    .dataframe tbody tr th {\n",
       "        vertical-align: top;\n",
       "    }\n",
       "\n",
       "    .dataframe thead th {\n",
       "        text-align: right;\n",
       "    }\n",
       "</style>\n",
       "<table border=\"1\" class=\"dataframe\">\n",
       "  <thead>\n",
       "    <tr style=\"text-align: right;\">\n",
       "      <th></th>\n",
       "      <th>cluster ID</th>\n",
       "      <th>length</th>\n",
       "      <th>height_left</th>\n",
       "      <th>height_right</th>\n",
       "      <th>margin_low</th>\n",
       "      <th>margin_up</th>\n",
       "      <th>diagonal</th>\n",
       "      <th>is_genuine</th>\n",
       "    </tr>\n",
       "  </thead>\n",
       "  <tbody>\n",
       "    <tr>\n",
       "      <th>0</th>\n",
       "      <td>0</td>\n",
       "      <td>-0.428344</td>\n",
       "      <td>2.669454</td>\n",
       "      <td>3.096563</td>\n",
       "      <td>-0.131590</td>\n",
       "      <td>-1.189874</td>\n",
       "      <td>0.281633</td>\n",
       "      <td>True</td>\n",
       "    </tr>\n",
       "    <tr>\n",
       "      <th>1</th>\n",
       "      <td>1</td>\n",
       "      <td>-0.887559</td>\n",
       "      <td>-1.097697</td>\n",
       "      <td>-0.691254</td>\n",
       "      <td>-0.860126</td>\n",
       "      <td>-1.274740</td>\n",
       "      <td>0.780697</td>\n",
       "      <td>True</td>\n",
       "    </tr>\n",
       "    <tr>\n",
       "      <th>2</th>\n",
       "      <td>1</td>\n",
       "      <td>-0.362742</td>\n",
       "      <td>-1.030427</td>\n",
       "      <td>-0.509439</td>\n",
       "      <td>-0.303010</td>\n",
       "      <td>-1.232307</td>\n",
       "      <td>1.377405</td>\n",
       "      <td>True</td>\n",
       "    </tr>\n",
       "    <tr>\n",
       "      <th>3</th>\n",
       "      <td>1</td>\n",
       "      <td>-0.461145</td>\n",
       "      <td>-0.963156</td>\n",
       "      <td>-0.842767</td>\n",
       "      <td>-1.260106</td>\n",
       "      <td>-0.213913</td>\n",
       "      <td>1.149571</td>\n",
       "      <td>True</td>\n",
       "    </tr>\n",
       "    <tr>\n",
       "      <th>4</th>\n",
       "      <td>1</td>\n",
       "      <td>0.358883</td>\n",
       "      <td>-1.232238</td>\n",
       "      <td>-0.539742</td>\n",
       "      <td>0.611230</td>\n",
       "      <td>-3.820725</td>\n",
       "      <td>1.062777</td>\n",
       "      <td>True</td>\n",
       "    </tr>\n",
       "    <tr>\n",
       "      <th>5</th>\n",
       "      <td>0</td>\n",
       "      <td>2.064540</td>\n",
       "      <td>1.963113</td>\n",
       "      <td>1.551134</td>\n",
       "      <td>-0.103020</td>\n",
       "      <td>-0.765543</td>\n",
       "      <td>0.639657</td>\n",
       "      <td>True</td>\n",
       "    </tr>\n",
       "    <tr>\n",
       "      <th>6</th>\n",
       "      <td>1</td>\n",
       "      <td>1.441319</td>\n",
       "      <td>-1.736767</td>\n",
       "      <td>-0.388229</td>\n",
       "      <td>-0.917266</td>\n",
       "      <td>-1.147441</td>\n",
       "      <td>0.791547</td>\n",
       "      <td>True</td>\n",
       "    </tr>\n",
       "    <tr>\n",
       "      <th>7</th>\n",
       "      <td>1</td>\n",
       "      <td>-1.182769</td>\n",
       "      <td>-1.400415</td>\n",
       "      <td>-1.691238</td>\n",
       "      <td>-1.531521</td>\n",
       "      <td>0.083119</td>\n",
       "      <td>0.878340</td>\n",
       "      <td>True</td>\n",
       "    </tr>\n",
       "    <tr>\n",
       "      <th>8</th>\n",
       "      <td>1</td>\n",
       "      <td>0.063673</td>\n",
       "      <td>-1.871308</td>\n",
       "      <td>-0.539742</td>\n",
       "      <td>-0.788700</td>\n",
       "      <td>0.677182</td>\n",
       "      <td>1.041079</td>\n",
       "      <td>True</td>\n",
       "    </tr>\n",
       "    <tr>\n",
       "      <th>9</th>\n",
       "      <td>0</td>\n",
       "      <td>0.654093</td>\n",
       "      <td>0.920419</td>\n",
       "      <td>0.823873</td>\n",
       "      <td>0.025545</td>\n",
       "      <td>-0.638244</td>\n",
       "      <td>-0.108939</td>\n",
       "      <td>True</td>\n",
       "    </tr>\n",
       "  </tbody>\n",
       "</table>\n",
       "</div>"
      ],
      "text/plain": [
       "   cluster ID    length  height_left  height_right  margin_low  margin_up  \\\n",
       "0           0 -0.428344     2.669454      3.096563   -0.131590  -1.189874   \n",
       "1           1 -0.887559    -1.097697     -0.691254   -0.860126  -1.274740   \n",
       "2           1 -0.362742    -1.030427     -0.509439   -0.303010  -1.232307   \n",
       "3           1 -0.461145    -0.963156     -0.842767   -1.260106  -0.213913   \n",
       "4           1  0.358883    -1.232238     -0.539742    0.611230  -3.820725   \n",
       "5           0  2.064540     1.963113      1.551134   -0.103020  -0.765543   \n",
       "6           1  1.441319    -1.736767     -0.388229   -0.917266  -1.147441   \n",
       "7           1 -1.182769    -1.400415     -1.691238   -1.531521   0.083119   \n",
       "8           1  0.063673    -1.871308     -0.539742   -0.788700   0.677182   \n",
       "9           0  0.654093     0.920419      0.823873    0.025545  -0.638244   \n",
       "\n",
       "   diagonal  is_genuine  \n",
       "0  0.281633        True  \n",
       "1  0.780697        True  \n",
       "2  1.377405        True  \n",
       "3  1.149571        True  \n",
       "4  1.062777        True  \n",
       "5  0.639657        True  \n",
       "6  0.791547        True  \n",
       "7  0.878340        True  \n",
       "8  1.041079        True  \n",
       "9 -0.108939        True  "
      ]
     },
     "execution_count": 59,
     "metadata": {},
     "output_type": "execute_result"
    }
   ],
   "source": [
    "X = data_kmeans_ind.values\n",
    "\n",
    "\n",
    "kmeans = KMeans(n_clusters=2)\n",
    "Y = pd.DataFrame(kmeans.fit_predict(X), columns=['cluster ID'])\n",
    "result_kmeans = pd.concat([Y, data_kmeans], axis=1)\n",
    "result_kmeans.head(10)"
   ]
  },
  {
   "cell_type": "markdown",
   "metadata": {},
   "source": [
    "# Visualisez la partition obtenue dans le premier plan factoriel de l'ACP, puis analysez-la."
   ]
  },
  {
   "cell_type": "code",
   "execution_count": 60,
   "metadata": {},
   "outputs": [
    {
     "data": {
      "text/html": [
       "<div>\n",
       "<style scoped>\n",
       "    .dataframe tbody tr th:only-of-type {\n",
       "        vertical-align: middle;\n",
       "    }\n",
       "\n",
       "    .dataframe tbody tr th {\n",
       "        vertical-align: top;\n",
       "    }\n",
       "\n",
       "    .dataframe thead th {\n",
       "        text-align: right;\n",
       "    }\n",
       "</style>\n",
       "<table border=\"1\" class=\"dataframe\">\n",
       "  <thead>\n",
       "    <tr style=\"text-align: right;\">\n",
       "      <th></th>\n",
       "      <th>length</th>\n",
       "      <th>height_left</th>\n",
       "      <th>height_right</th>\n",
       "      <th>margin_low</th>\n",
       "      <th>margin_up</th>\n",
       "      <th>diagonal</th>\n",
       "      <th>is_genuine</th>\n",
       "      <th>PC1</th>\n",
       "      <th>PC2</th>\n",
       "      <th>PC3</th>\n",
       "      <th>cluster ID</th>\n",
       "    </tr>\n",
       "  </thead>\n",
       "  <tbody>\n",
       "    <tr>\n",
       "      <th>0</th>\n",
       "      <td>-0.428344</td>\n",
       "      <td>2.669454</td>\n",
       "      <td>3.096563</td>\n",
       "      <td>-0.131590</td>\n",
       "      <td>-1.189874</td>\n",
       "      <td>0.281633</td>\n",
       "      <td>True</td>\n",
       "      <td>2.153639</td>\n",
       "      <td>1.599709</td>\n",
       "      <td>1.787451</td>\n",
       "      <td>0</td>\n",
       "    </tr>\n",
       "    <tr>\n",
       "      <th>1</th>\n",
       "      <td>-0.887559</td>\n",
       "      <td>-1.097697</td>\n",
       "      <td>-0.691254</td>\n",
       "      <td>-0.860126</td>\n",
       "      <td>-1.274740</td>\n",
       "      <td>0.780697</td>\n",
       "      <td>True</td>\n",
       "      <td>-2.110416</td>\n",
       "      <td>-0.526039</td>\n",
       "      <td>0.542563</td>\n",
       "      <td>1</td>\n",
       "    </tr>\n",
       "    <tr>\n",
       "      <th>2</th>\n",
       "      <td>-0.362742</td>\n",
       "      <td>-1.030427</td>\n",
       "      <td>-0.509439</td>\n",
       "      <td>-0.303010</td>\n",
       "      <td>-1.232307</td>\n",
       "      <td>1.377405</td>\n",
       "      <td>True</td>\n",
       "      <td>-1.973152</td>\n",
       "      <td>-0.048102</td>\n",
       "      <td>0.858716</td>\n",
       "      <td>1</td>\n",
       "    </tr>\n",
       "    <tr>\n",
       "      <th>3</th>\n",
       "      <td>-0.461145</td>\n",
       "      <td>-0.963156</td>\n",
       "      <td>-0.842767</td>\n",
       "      <td>-1.260106</td>\n",
       "      <td>-0.213913</td>\n",
       "      <td>1.149571</td>\n",
       "      <td>True</td>\n",
       "      <td>-2.059795</td>\n",
       "      <td>-0.089105</td>\n",
       "      <td>-0.531529</td>\n",
       "      <td>1</td>\n",
       "    </tr>\n",
       "    <tr>\n",
       "      <th>4</th>\n",
       "      <td>0.358883</td>\n",
       "      <td>-1.232238</td>\n",
       "      <td>-0.539742</td>\n",
       "      <td>0.611230</td>\n",
       "      <td>-3.820725</td>\n",
       "      <td>1.062777</td>\n",
       "      <td>True</td>\n",
       "      <td>-2.403180</td>\n",
       "      <td>0.412170</td>\n",
       "      <td>3.319507</td>\n",
       "      <td>1</td>\n",
       "    </tr>\n",
       "  </tbody>\n",
       "</table>\n",
       "</div>"
      ],
      "text/plain": [
       "     length  height_left  height_right  margin_low  margin_up  diagonal  \\\n",
       "0 -0.428344     2.669454      3.096563   -0.131590  -1.189874  0.281633   \n",
       "1 -0.887559    -1.097697     -0.691254   -0.860126  -1.274740  0.780697   \n",
       "2 -0.362742    -1.030427     -0.509439   -0.303010  -1.232307  1.377405   \n",
       "3 -0.461145    -0.963156     -0.842767   -1.260106  -0.213913  1.149571   \n",
       "4  0.358883    -1.232238     -0.539742    0.611230  -3.820725  1.062777   \n",
       "\n",
       "   is_genuine       PC1       PC2       PC3  cluster ID  \n",
       "0        True  2.153639  1.599709  1.787451           0  \n",
       "1        True -2.110416 -0.526039  0.542563           1  \n",
       "2        True -1.973152 -0.048102  0.858716           1  \n",
       "3        True -2.059795 -0.089105 -0.531529           1  \n",
       "4        True -2.403180  0.412170  3.319507           1  "
      ]
     },
     "execution_count": 60,
     "metadata": {},
     "output_type": "execute_result"
    }
   ],
   "source": [
    "a=data_acp_ind\n",
    "b = a.join(result_kmeans['cluster ID'])\n",
    "b.head()"
   ]
  },
  {
   "cell_type": "markdown",
   "metadata": {},
   "source": [
    "## Tableau récapitulatif (contingence)"
   ]
  },
  {
   "cell_type": "code",
   "execution_count": 61,
   "metadata": {},
   "outputs": [],
   "source": [
    "b['etiquette_cah'] = b['cluster ID'] == 0"
   ]
  },
  {
   "cell_type": "code",
   "execution_count": 62,
   "metadata": {},
   "outputs": [
    {
     "data": {
      "text/html": [
       "<div>\n",
       "<style scoped>\n",
       "    .dataframe tbody tr th:only-of-type {\n",
       "        vertical-align: middle;\n",
       "    }\n",
       "\n",
       "    .dataframe tbody tr th {\n",
       "        vertical-align: top;\n",
       "    }\n",
       "\n",
       "    .dataframe thead th {\n",
       "        text-align: right;\n",
       "    }\n",
       "</style>\n",
       "<table border=\"1\" class=\"dataframe\">\n",
       "  <thead>\n",
       "    <tr style=\"text-align: right;\">\n",
       "      <th>etiquette_cah</th>\n",
       "      <th>False</th>\n",
       "      <th>True</th>\n",
       "      <th>Total</th>\n",
       "    </tr>\n",
       "    <tr>\n",
       "      <th>is_genuine</th>\n",
       "      <th></th>\n",
       "      <th></th>\n",
       "      <th></th>\n",
       "    </tr>\n",
       "  </thead>\n",
       "  <tbody>\n",
       "    <tr>\n",
       "      <th>False</th>\n",
       "      <td>1.0</td>\n",
       "      <td>69.0</td>\n",
       "      <td>70.0</td>\n",
       "    </tr>\n",
       "    <tr>\n",
       "      <th>True</th>\n",
       "      <td>92.0</td>\n",
       "      <td>8.0</td>\n",
       "      <td>100.0</td>\n",
       "    </tr>\n",
       "    <tr>\n",
       "      <th>total</th>\n",
       "      <td>93.0</td>\n",
       "      <td>77.0</td>\n",
       "      <td>170.0</td>\n",
       "    </tr>\n",
       "  </tbody>\n",
       "</table>\n",
       "</div>"
      ],
      "text/plain": [
       "etiquette_cah  False  True  Total\n",
       "is_genuine                       \n",
       "False            1.0  69.0   70.0\n",
       "True            92.0   8.0  100.0\n",
       "total           93.0  77.0  170.0"
      ]
     },
     "execution_count": 62,
     "metadata": {},
     "output_type": "execute_result"
    }
   ],
   "source": [
    "X = \"is_genuine\"\n",
    "\n",
    "Y = \"etiquette_cah\"\n",
    "\n",
    "\n",
    "c = b[[X,Y]].pivot_table(index=X,columns=Y,aggfunc=len)\n",
    "\n",
    "cont = c.copy()\n",
    "\n",
    "\n",
    "tx = b[X].value_counts()\n",
    "\n",
    "ty = b[Y].value_counts()\n",
    "\n",
    "\n",
    "cont.loc[:,\"Total\"] = tx\n",
    "\n",
    "cont.loc[\"total\",:] = ty\n",
    "\n",
    "cont.loc[\"total\",\"Total\"] = len(data)\n",
    "\n",
    "cont"
   ]
  },
  {
   "cell_type": "markdown",
   "metadata": {},
   "source": [
    "7 False positive <br/>\n",
    "1 False negative"
   ]
  },
  {
   "cell_type": "code",
   "execution_count": 63,
   "metadata": {},
   "outputs": [
    {
     "data": {
      "image/png": "[encoded data removed]",
      "text/plain": [
       "<Figure size 576x576 with 1 Axes>"
      ]
     },
     "metadata": {},
     "output_type": "display_data"
    }
   ],
   "source": [
    "fig = plt.figure(figsize = (8,8))\n",
    "ax = fig.add_subplot(1,1,1) \n",
    "ax.set_xlabel(\"PC 1\", fontsize = 15)\n",
    "ax.set_ylabel(\"PC 2\", fontsize = 15)\n",
    "ax.set_title('Analyse par composante billets (2 groupes)', fontsize = 20)\n",
    "\n",
    "targets = [0,1]\n",
    "colors = ['r', 'g']\n",
    "\n",
    "for target, color in zip(targets,colors):\n",
    "    indicesToKeep = b['cluster ID'] == target\n",
    "    ax.scatter(b.loc[indicesToKeep, 'PC1']\n",
    "               , b.loc[indicesToKeep, 'PC2']\n",
    "               , c = color\n",
    "               , s = 50)\n",
    "ax.legend(targets)\n",
    "ax.grid()\n",
    "\n",
    "fig.savefig('../presentation/images/acp_partition_kmeans')\n",
    "\n",
    "\n",
    "\n"
   ]
  },
  {
   "cell_type": "markdown",
   "metadata": {},
   "source": [
    "# Modélisez les données à l'aide d'une régression logistique."
   ]
  },
  {
   "cell_type": "code",
   "execution_count": 64,
   "metadata": {},
   "outputs": [],
   "source": [
    "data_lr_ind = data.copy()\n",
    "data_lr = data.copy() # Echantillon d'entrainement"
   ]
  },
  {
   "cell_type": "code",
   "execution_count": 65,
   "metadata": {},
   "outputs": [],
   "source": [
    "data_lr_ind['is_genuine'] = data_lr_ind.index\n",
    "del data_lr_ind['is_genuine']"
   ]
  },
  {
   "cell_type": "code",
   "execution_count": 66,
   "metadata": {},
   "outputs": [
    {
     "data": {
      "text/plain": [
       "LogisticRegression(C=1.0, class_weight=None, dual=False, fit_intercept=True,\n",
       "          intercept_scaling=1, max_iter=100, multi_class='ovr', n_jobs=1,\n",
       "          penalty='l2', random_state=None, solver='liblinear', tol=0.0001,\n",
       "          verbose=0, warm_start=False)"
      ]
     },
     "execution_count": 66,
     "metadata": {},
     "output_type": "execute_result"
    }
   ],
   "source": [
    "X = data_lr_ind.values\n",
    "y = data_lr['is_genuine']\n",
    "\n",
    "logistic = LogisticRegression()\n",
    "logistic.fit(X,y)\n",
    "\n",
    "# Voir les indicateurs métrique (précision, rappel, score F1) --> Fait intervenir les notion de vrai positif et faux positif, vrai négatif et faux négatif"
   ]
  },
  {
   "cell_type": "code",
   "execution_count": 67,
   "metadata": {},
   "outputs": [
    {
     "data": {
      "text/plain": [
       "['../code/algo_reg_log.pkl']"
      ]
     },
     "execution_count": 67,
     "metadata": {},
     "output_type": "execute_result"
    }
   ],
   "source": [
    "joblib.dump(logistic, '../code/algo_reg_log.pkl')"
   ]
  },
  {
   "cell_type": "code",
   "execution_count": 68,
   "metadata": {},
   "outputs": [
    {
     "data": {
      "text/plain": [
       "array([[70,  0],\n",
       "       [ 1, 99]])"
      ]
     },
     "execution_count": 68,
     "metadata": {},
     "output_type": "execute_result"
    }
   ],
   "source": [
    "conf = confusion_matrix(y, logistic.predict(X))\n",
    "conf"
   ]
  },
  {
   "cell_type": "code",
   "execution_count": 101,
   "metadata": {},
   "outputs": [
    {
     "data": {
      "text/plain": [
       "array(['False', 'True'], dtype='<U5')"
      ]
     },
     "execution_count": 101,
     "metadata": {},
     "output_type": "execute_result"
    }
   ],
   "source": [
    "classes = logistic.classes_\n",
    "classes = classes.astype(str)\n",
    "classes"
   ]
  },
  {
   "cell_type": "code",
   "execution_count": 102,
   "metadata": {},
   "outputs": [
    {
     "data": {
      "text/html": [
       "<div>\n",
       "<style scoped>\n",
       "    .dataframe tbody tr th:only-of-type {\n",
       "        vertical-align: middle;\n",
       "    }\n",
       "\n",
       "    .dataframe tbody tr th {\n",
       "        vertical-align: top;\n",
       "    }\n",
       "\n",
       "    .dataframe thead th {\n",
       "        text-align: right;\n",
       "    }\n",
       "</style>\n",
       "<table border=\"1\" class=\"dataframe\">\n",
       "  <thead>\n",
       "    <tr style=\"text-align: right;\">\n",
       "      <th></th>\n",
       "      <th>prédit False</th>\n",
       "      <th>prédit True</th>\n",
       "    </tr>\n",
       "  </thead>\n",
       "  <tbody>\n",
       "    <tr>\n",
       "      <th>vrai False</th>\n",
       "      <td>70</td>\n",
       "      <td>0</td>\n",
       "    </tr>\n",
       "    <tr>\n",
       "      <th>vrai True</th>\n",
       "      <td>1</td>\n",
       "      <td>99</td>\n",
       "    </tr>\n",
       "  </tbody>\n",
       "</table>\n",
       "</div>"
      ],
      "text/plain": [
       "            prédit False  prédit True\n",
       "vrai False            70            0\n",
       "vrai True              1           99"
      ]
     },
     "execution_count": 102,
     "metadata": {},
     "output_type": "execute_result"
    }
   ],
   "source": [
    "cf = pd.DataFrame(conf, columns=['prédit ' + _ for _ in classes])\n",
    "cf.index = ['vrai ' + _ for _ in classes]\n",
    "cf"
   ]
  },
  {
   "cell_type": "markdown",
   "metadata": {},
   "source": [
    "Les coefficients sur la diagonale indique les éléments bien classés, les coefficients en dehors indiquent ceux que le classifieur a mis dans la mauvaise classe."
   ]
  },
  {
   "cell_type": "markdown",
   "metadata": {},
   "source": [
    "On utilise le modèle pour prédire la classe d'une donnée"
   ]
  },
  {
   "cell_type": "code",
   "execution_count": 69,
   "metadata": {},
   "outputs": [
    {
     "data": {
      "text/plain": [
       "array([ True,  True,  True,  True,  True,  True,  True,  True,  True,\n",
       "        True,  True,  True,  True,  True,  True,  True,  True,  True,\n",
       "        True,  True,  True,  True,  True,  True,  True,  True,  True,\n",
       "        True,  True,  True,  True,  True,  True,  True,  True,  True,\n",
       "        True,  True,  True,  True,  True,  True,  True,  True,  True,\n",
       "        True,  True,  True,  True,  True,  True,  True,  True,  True,\n",
       "        True,  True,  True,  True,  True,  True,  True,  True,  True,\n",
       "        True,  True,  True,  True,  True,  True, False,  True,  True,\n",
       "        True,  True,  True,  True,  True,  True,  True,  True,  True,\n",
       "        True,  True,  True,  True,  True,  True,  True,  True,  True,\n",
       "        True,  True,  True,  True,  True,  True,  True,  True,  True,\n",
       "        True, False, False, False, False, False, False, False, False,\n",
       "       False, False, False, False, False, False, False, False, False,\n",
       "       False, False, False, False, False, False, False, False, False,\n",
       "       False, False, False, False, False, False, False, False, False,\n",
       "       False, False, False, False, False, False, False, False, False,\n",
       "       False, False, False, False, False, False, False, False, False,\n",
       "       False, False, False, False, False, False, False, False, False,\n",
       "       False, False, False, False, False, False, False, False])"
      ]
     },
     "execution_count": 69,
     "metadata": {},
     "output_type": "execute_result"
    }
   ],
   "source": [
    "classesPredites = logistic.predict(X)\n",
    "classesPredites"
   ]
  },
  {
   "cell_type": "markdown",
   "metadata": {},
   "source": [
    "OU obtenir la probabilité pour cette donnée d'appartenir à chacune des 2 classes (True ou False)"
   ]
  },
  {
   "cell_type": "code",
   "execution_count": 70,
   "metadata": {},
   "outputs": [
    {
     "data": {
      "text/plain": [
       "array([[0.142, 0.858],\n",
       "       [0.002, 0.998],\n",
       "       [0.003, 0.997],\n",
       "       [0.001, 0.999],\n",
       "       [0.001, 0.999],\n",
       "       [0.054, 0.946],\n",
       "       [0.001, 0.999],\n",
       "       [0.001, 0.999],\n",
       "       [0.02 , 0.98 ],\n",
       "       [0.243, 0.757],\n",
       "       [0.065, 0.935],\n",
       "       [0.002, 0.998],\n",
       "       [0.034, 0.966],\n",
       "       [0.008, 0.992],\n",
       "       [0.006, 0.994],\n",
       "       [0.003, 0.997],\n",
       "       [0.004, 0.996],\n",
       "       [0.003, 0.997],\n",
       "       [0.016, 0.984],\n",
       "       [0.008, 0.992],\n",
       "       [0.01 , 0.99 ],\n",
       "       [0.011, 0.989],\n",
       "       [0.037, 0.963],\n",
       "       [0.018, 0.982],\n",
       "       [0.01 , 0.99 ],\n",
       "       [0.017, 0.983],\n",
       "       [0.004, 0.996],\n",
       "       [0.058, 0.942],\n",
       "       [0.003, 0.997],\n",
       "       [0.   , 1.   ],\n",
       "       [0.006, 0.994],\n",
       "       [0.001, 0.999],\n",
       "       [0.026, 0.974],\n",
       "       [0.051, 0.949],\n",
       "       [0.036, 0.964],\n",
       "       [0.044, 0.956],\n",
       "       [0.003, 0.997],\n",
       "       [0.001, 0.999],\n",
       "       [0.001, 0.999],\n",
       "       [0.005, 0.995],\n",
       "       [0.002, 0.998],\n",
       "       [0.023, 0.977],\n",
       "       [0.007, 0.993],\n",
       "       [0.048, 0.952],\n",
       "       [0.012, 0.988],\n",
       "       [0.011, 0.989],\n",
       "       [0.012, 0.988],\n",
       "       [0.004, 0.996],\n",
       "       [0.021, 0.979],\n",
       "       [0.001, 0.999],\n",
       "       [0.003, 0.997],\n",
       "       [0.056, 0.944],\n",
       "       [0.053, 0.947],\n",
       "       [0.009, 0.991],\n",
       "       [0.004, 0.996],\n",
       "       [0.005, 0.995],\n",
       "       [0.036, 0.964],\n",
       "       [0.005, 0.995],\n",
       "       [0.039, 0.961],\n",
       "       [0.012, 0.988],\n",
       "       [0.006, 0.994],\n",
       "       [0.003, 0.997],\n",
       "       [0.006, 0.994],\n",
       "       [0.029, 0.971],\n",
       "       [0.036, 0.964],\n",
       "       [0.245, 0.755],\n",
       "       [0.007, 0.993],\n",
       "       [0.006, 0.994],\n",
       "       [0.003, 0.997],\n",
       "       [0.59 , 0.41 ],\n",
       "       [0.241, 0.759],\n",
       "       [0.008, 0.992],\n",
       "       [0.045, 0.955],\n",
       "       [0.003, 0.997],\n",
       "       [0.001, 0.999],\n",
       "       [0.005, 0.995],\n",
       "       [0.03 , 0.97 ],\n",
       "       [0.021, 0.979],\n",
       "       [0.052, 0.948],\n",
       "       [0.002, 0.998],\n",
       "       [0.087, 0.913],\n",
       "       [0.009, 0.991],\n",
       "       [0.003, 0.997],\n",
       "       [0.026, 0.974],\n",
       "       [0.218, 0.782],\n",
       "       [0.036, 0.964],\n",
       "       [0.005, 0.995],\n",
       "       [0.005, 0.995],\n",
       "       [0.017, 0.983],\n",
       "       [0.004, 0.996],\n",
       "       [0.004, 0.996],\n",
       "       [0.009, 0.991],\n",
       "       [0.003, 0.997],\n",
       "       [0.004, 0.996],\n",
       "       [0.005, 0.995],\n",
       "       [0.005, 0.995],\n",
       "       [0.108, 0.892],\n",
       "       [0.013, 0.987],\n",
       "       [0.05 , 0.95 ],\n",
       "       [0.004, 0.996],\n",
       "       [0.977, 0.023],\n",
       "       [1.   , 0.   ],\n",
       "       [0.691, 0.309],\n",
       "       [0.912, 0.088],\n",
       "       [0.997, 0.003],\n",
       "       [0.974, 0.026],\n",
       "       [0.945, 0.055],\n",
       "       [0.981, 0.019],\n",
       "       [0.995, 0.005],\n",
       "       [0.982, 0.018],\n",
       "       [0.84 , 0.16 ],\n",
       "       [0.985, 0.015],\n",
       "       [0.959, 0.041],\n",
       "       [0.996, 0.004],\n",
       "       [0.959, 0.041],\n",
       "       [0.689, 0.311],\n",
       "       [0.995, 0.005],\n",
       "       [0.996, 0.004],\n",
       "       [0.836, 0.164],\n",
       "       [0.997, 0.003],\n",
       "       [0.998, 0.002],\n",
       "       [0.999, 0.001],\n",
       "       [0.992, 0.008],\n",
       "       [0.984, 0.016],\n",
       "       [0.788, 0.212],\n",
       "       [0.983, 0.017],\n",
       "       [0.926, 0.074],\n",
       "       [0.991, 0.009],\n",
       "       [0.932, 0.068],\n",
       "       [0.996, 0.004],\n",
       "       [0.969, 0.031],\n",
       "       [1.   , 0.   ],\n",
       "       [0.994, 0.006],\n",
       "       [0.997, 0.003],\n",
       "       [0.98 , 0.02 ],\n",
       "       [0.999, 0.001],\n",
       "       [0.996, 0.004],\n",
       "       [0.991, 0.009],\n",
       "       [0.989, 0.011],\n",
       "       [0.948, 0.052],\n",
       "       [0.997, 0.003],\n",
       "       [0.974, 0.026],\n",
       "       [1.   , 0.   ],\n",
       "       [0.99 , 0.01 ],\n",
       "       [0.74 , 0.26 ],\n",
       "       [0.939, 0.061],\n",
       "       [0.999, 0.001],\n",
       "       [0.995, 0.005],\n",
       "       [0.993, 0.007],\n",
       "       [0.994, 0.006],\n",
       "       [0.98 , 0.02 ],\n",
       "       [1.   , 0.   ],\n",
       "       [0.972, 0.028],\n",
       "       [1.   , 0.   ],\n",
       "       [0.999, 0.001],\n",
       "       [0.998, 0.002],\n",
       "       [0.992, 0.008],\n",
       "       [0.994, 0.006],\n",
       "       [1.   , 0.   ],\n",
       "       [0.995, 0.005],\n",
       "       [0.907, 0.093],\n",
       "       [0.975, 0.025],\n",
       "       [0.994, 0.006],\n",
       "       [0.999, 0.001],\n",
       "       [0.991, 0.009],\n",
       "       [0.998, 0.002],\n",
       "       [0.962, 0.038],\n",
       "       [0.992, 0.008],\n",
       "       [0.964, 0.036],\n",
       "       [0.998, 0.002]])"
      ]
     },
     "execution_count": 70,
     "metadata": {},
     "output_type": "execute_result"
    }
   ],
   "source": [
    "probaClasses = logistic.predict_proba(X)\n",
    "probaClasses.round(3)\n",
    "# Ici le premier billet a plus de chance d'être vrai que faux"
   ]
  },
  {
   "cell_type": "markdown",
   "metadata": {},
   "source": [
    "## Distribution des scores"
   ]
  },
  {
   "cell_type": "markdown",
   "metadata": {},
   "source": [
    "Un classifieur construit une frontière entre deux classes, la distance d’un point à la frontière consistue une information importante. Plus elle est grande, plus le modèle est confiant. Cette distance est souvent appelée score."
   ]
  },
  {
   "cell_type": "code",
   "execution_count": 71,
   "metadata": {},
   "outputs": [
    {
     "data": {
      "text/html": [
       "<div>\n",
       "<style scoped>\n",
       "    .dataframe tbody tr th:only-of-type {\n",
       "        vertical-align: middle;\n",
       "    }\n",
       "\n",
       "    .dataframe tbody tr th {\n",
       "        vertical-align: top;\n",
       "    }\n",
       "\n",
       "    .dataframe thead th {\n",
       "        text-align: right;\n",
       "    }\n",
       "</style>\n",
       "<table border=\"1\" class=\"dataframe\">\n",
       "  <thead>\n",
       "    <tr style=\"text-align: right;\">\n",
       "      <th></th>\n",
       "      <th>score</th>\n",
       "      <th>classe</th>\n",
       "    </tr>\n",
       "  </thead>\n",
       "  <tbody>\n",
       "    <tr>\n",
       "      <th>0</th>\n",
       "      <td>1.800974</td>\n",
       "      <td>True</td>\n",
       "    </tr>\n",
       "    <tr>\n",
       "      <th>1</th>\n",
       "      <td>6.266264</td>\n",
       "      <td>True</td>\n",
       "    </tr>\n",
       "    <tr>\n",
       "      <th>2</th>\n",
       "      <td>5.937662</td>\n",
       "      <td>True</td>\n",
       "    </tr>\n",
       "    <tr>\n",
       "      <th>3</th>\n",
       "      <td>6.509245</td>\n",
       "      <td>True</td>\n",
       "    </tr>\n",
       "    <tr>\n",
       "      <th>4</th>\n",
       "      <td>6.994190</td>\n",
       "      <td>True</td>\n",
       "    </tr>\n",
       "  </tbody>\n",
       "</table>\n",
       "</div>"
      ],
      "text/plain": [
       "      score  classe\n",
       "0  1.800974    True\n",
       "1  6.266264    True\n",
       "2  5.937662    True\n",
       "3  6.509245    True\n",
       "4  6.994190    True"
      ]
     },
     "execution_count": 71,
     "metadata": {},
     "output_type": "execute_result"
    }
   ],
   "source": [
    "score = logistic.decision_function(X)\n",
    "dfsc = pd.DataFrame(score, columns=['score'])\n",
    "dfsc['classe'] = y\n",
    "dfsc.head()\n",
    "\n"
   ]
  },
  {
   "cell_type": "code",
   "execution_count": 72,
   "metadata": {},
   "outputs": [
    {
     "data": {
      "text/plain": [
       "Text(0.5,1,'Distribution des scores de classification des billets')"
      ]
     },
     "execution_count": 72,
     "metadata": {},
     "output_type": "execute_result"
    },
    {
     "data": {
      "image/png": "[encoded data removed]",
      "text/plain": [
       "<Figure size 432x216 with 1 Axes>"
      ]
     },
     "metadata": {},
     "output_type": "display_data"
    }
   ],
   "source": [
    "ax = dfsc['score'].hist(bins=50, figsize=(6,3))\n",
    "ax.set_title('Distribution des scores de classification des billets')"
   ]
  },
  {
   "cell_type": "code",
   "execution_count": 73,
   "metadata": {},
   "outputs": [
    {
     "data": {
      "image/png": "[encoded data removed]",
      "text/plain": [
       "<Figure size 432x216 with 1 Axes>"
      ]
     },
     "metadata": {},
     "output_type": "display_data"
    }
   ],
   "source": [
    "fig = plt.figure(figsize = (8,8))\n",
    "\n",
    "ax = dfsc[dfsc['classe'] == True]['score'].hist(bins=25, figsize=(6,3), label='True', alpha=0.5)\n",
    "dfsc[dfsc['classe'] == False]['score'].hist(bins=25, ax=ax, label='False', alpha=0.5)\n",
    "ax.set_title(\"Distribution des scores pour les deux classes\")\n",
    "ax.plot([0, 0], [0, 20], 'g--', label=\"frontière ?\")\n",
    "ax.legend()\n",
    "ax.set_ylabel('Fréquences')\n",
    "ax.set_xlabel('Score')\n",
    "\n",
    "fig.savefig('../presentation/images/distrib_score')\n",
    "\n"
   ]
  },
  {
   "cell_type": "markdown",
   "metadata": {},
   "source": [
    "Il y a quelques confusions autour de 0 mais le modèle est pertinent au sens où la frontière entre les deux classes est assez nette : les deux cloches ne se superposent pas. Voyons avec les probabilités :"
   ]
  },
  {
   "cell_type": "code",
   "execution_count": 74,
   "metadata": {},
   "outputs": [
    {
     "data": {
      "text/html": [
       "<div>\n",
       "<style scoped>\n",
       "    .dataframe tbody tr th:only-of-type {\n",
       "        vertical-align: middle;\n",
       "    }\n",
       "\n",
       "    .dataframe tbody tr th {\n",
       "        vertical-align: top;\n",
       "    }\n",
       "\n",
       "    .dataframe thead th {\n",
       "        text-align: right;\n",
       "    }\n",
       "</style>\n",
       "<table border=\"1\" class=\"dataframe\">\n",
       "  <thead>\n",
       "    <tr style=\"text-align: right;\">\n",
       "      <th></th>\n",
       "      <th>proba</th>\n",
       "      <th>classe</th>\n",
       "    </tr>\n",
       "  </thead>\n",
       "  <tbody>\n",
       "    <tr>\n",
       "      <th>0</th>\n",
       "      <td>0.858267</td>\n",
       "      <td>True</td>\n",
       "    </tr>\n",
       "    <tr>\n",
       "      <th>1</th>\n",
       "      <td>0.998104</td>\n",
       "      <td>True</td>\n",
       "    </tr>\n",
       "    <tr>\n",
       "      <th>2</th>\n",
       "      <td>0.997369</td>\n",
       "      <td>True</td>\n",
       "    </tr>\n",
       "    <tr>\n",
       "      <th>3</th>\n",
       "      <td>0.998513</td>\n",
       "      <td>True</td>\n",
       "    </tr>\n",
       "    <tr>\n",
       "      <th>4</th>\n",
       "      <td>0.999084</td>\n",
       "      <td>True</td>\n",
       "    </tr>\n",
       "  </tbody>\n",
       "</table>\n",
       "</div>"
      ],
      "text/plain": [
       "      proba  classe\n",
       "0  0.858267    True\n",
       "1  0.998104    True\n",
       "2  0.997369    True\n",
       "3  0.998513    True\n",
       "4  0.999084    True"
      ]
     },
     "execution_count": 74,
     "metadata": {},
     "output_type": "execute_result"
    }
   ],
   "source": [
    "proba = logistic.predict_proba(X)[:, 1]\n",
    "dfpr = pd.DataFrame(proba, columns=['proba'])\n",
    "dfpr['classe'] = y\n",
    "dfpr.head()"
   ]
  },
  {
   "cell_type": "code",
   "execution_count": 75,
   "metadata": {},
   "outputs": [
    {
     "data": {
      "image/png": "[encoded data removed]",
      "text/plain": [
       "<Figure size 864x360 with 2 Axes>"
      ]
     },
     "metadata": {},
     "output_type": "display_data"
    }
   ],
   "source": [
    "fig, ax = plt.subplots(1, 2, figsize=(12,5))\n",
    "dfpr[dfpr['classe'] == True]['proba'].hist(bins=25, label='True', alpha=0.5, ax=ax[0])\n",
    "dfpr[dfpr['classe'] == False]['proba'].hist(bins=25, label='False', alpha=0.5, ax=ax[0])\n",
    "ax[0].set_title('Distribution des probabilités des deux classes')\n",
    "ax[0].legend()\n",
    "ax[0].set_ylabel('Fréquences')\n",
    "ax[0].set_xlabel('Probabilités');\n",
    "dfpr[dfpr['classe'] == True]['proba'].hist(bins=25, label='True', alpha=0.5, ax=ax[1])\n",
    "dfpr[dfpr['classe'] == False]['proba'].hist(bins=25, label='False', alpha=0.5, ax=ax[1])\n",
    "ax[0].plot([0.5, 0.5], [0, 60], 'g--', label=\"frontière ?\")\n",
    "ax[1].plot([0.5, 0.5], [0, 60], 'g--', label=\"frontière ?\")\n",
    "ax[1].set_yscale('log')\n",
    "ax[1].set_title('Distribution des probabilités des deux classes\\néchelle logarithmique')\n",
    "ax[1].legend()\n",
    "ax[1].set_ylabel('Fréquences Echelle logarithmique')\n",
    "ax[1].set_xlabel('Probabilités')\n",
    "fig.savefig('../presentation/images/distrib_prob')\n"
   ]
  },
  {
   "cell_type": "markdown",
   "metadata": {},
   "source": [
    "Plus l’aire commune aux deux distributions est petite, plus le modèle est confiant. Cette aire commune est reliée à la courbe ROC"
   ]
  },
  {
   "cell_type": "code",
   "execution_count": 76,
   "metadata": {},
   "outputs": [
    {
     "data": {
      "text/plain": [
       "(170,)"
      ]
     },
     "execution_count": 76,
     "metadata": {},
     "output_type": "execute_result"
    }
   ],
   "source": [
    "probas = logistic.predict_proba(X)\n",
    "fpr0, tpr0, thresholds0 = roc_curve(y, probas[:, 0], pos_label=logistic.classes_[0], drop_intermediate=False)\n",
    "fpr0.shape"
   ]
  },
  {
   "cell_type": "markdown",
   "metadata": {},
   "source": [
    "fpr désigne le False Positive Rate autrement dit le taux de faux positive, si la tâche est déterminer si un billet est vrai, le taux désigne la proportion de faux billets classés par le classifieur parmi les vrais billets. C’est l’erreur de classification. \n",
    "\n",
    "tpr désigne le nombre de True Positive Rate. Si la tâche est déterminer si un billet est vrai, le taux désigne la proportion de vrais billets classés par le classifieur parmi les vrais billets."
   ]
  },
  {
   "cell_type": "code",
   "execution_count": 77,
   "metadata": {},
   "outputs": [
    {
     "data": {
      "text/html": [
       "<div>\n",
       "<style scoped>\n",
       "    .dataframe tbody tr th:only-of-type {\n",
       "        vertical-align: middle;\n",
       "    }\n",
       "\n",
       "    .dataframe tbody tr th {\n",
       "        vertical-align: top;\n",
       "    }\n",
       "\n",
       "    .dataframe thead th {\n",
       "        text-align: right;\n",
       "    }\n",
       "</style>\n",
       "<table border=\"1\" class=\"dataframe\">\n",
       "  <thead>\n",
       "    <tr style=\"text-align: right;\">\n",
       "      <th></th>\n",
       "      <th>fpr</th>\n",
       "      <th>threshold</th>\n",
       "      <th>tpr</th>\n",
       "    </tr>\n",
       "  </thead>\n",
       "  <tbody>\n",
       "    <tr>\n",
       "      <th>0</th>\n",
       "      <td>0.0</td>\n",
       "      <td>0.999686</td>\n",
       "      <td>0.014286</td>\n",
       "    </tr>\n",
       "    <tr>\n",
       "      <th>1</th>\n",
       "      <td>0.0</td>\n",
       "      <td>0.999659</td>\n",
       "      <td>0.028571</td>\n",
       "    </tr>\n",
       "  </tbody>\n",
       "</table>\n",
       "</div>"
      ],
      "text/plain": [
       "   fpr  threshold       tpr\n",
       "0  0.0   0.999686  0.014286\n",
       "1  0.0   0.999659  0.028571"
      ]
     },
     "execution_count": 77,
     "metadata": {},
     "output_type": "execute_result"
    }
   ],
   "source": [
    "dftp = pd.DataFrame(dict(fpr=fpr0, tpr=tpr0, threshold=thresholds0)).copy()\n",
    "dftp.head(n=2)"
   ]
  },
  {
   "cell_type": "code",
   "execution_count": 78,
   "metadata": {},
   "outputs": [
    {
     "name": "stderr",
     "output_type": "stream",
     "text": [
      "/usr/local/lib/python3.5/dist-packages/pandas/plotting/_core.py:1716: UserWarning: Pandas doesn't allow columns to be created via a new attribute name - see https://pandas.pydata.org/pandas-docs/stable/indexing.html#attribute-access\n",
      "  series.name = label\n"
     ]
    },
    {
     "data": {
      "image/png": "[encoded data removed]",
      "text/plain": [
       "<Figure size 288x288 with 1 Axes>"
      ]
     },
     "metadata": {},
     "output_type": "display_data"
    }
   ],
   "source": [
    "ax = dftp.plot(x=\"threshold\", y=['fpr', 'tpr'], figsize=(4, 4))\n",
    "ax.set_title(\"Evolution de FPR, TPR\\nen fonction du seuil au delà duquel\\n\" +\n",
    "            \"la réponse du classifieur est validée\");\n",
    "image= ax.get_figure()\n",
    "image.savefig('../presentation/images/dftp')"
   ]
  },
  {
   "cell_type": "code",
   "execution_count": 79,
   "metadata": {},
   "outputs": [
    {
     "data": {
      "text/plain": [
       "''"
      ]
     },
     "execution_count": 79,
     "metadata": {},
     "output_type": "execute_result"
    },
    {
     "data": {
      "image/png": "[encoded data removed]",
      "text/plain": [
       "<Figure size 288x288 with 1 Axes>"
      ]
     },
     "metadata": {},
     "output_type": "display_data"
    }
   ],
   "source": [
    "fig, ax = plt.subplots(1, 1, figsize=(4,4))\n",
    "ax.plot([0, 1], [0, 1], 'k--')\n",
    "# aucf = roc_auc_score(y == logistic.classes_[0], probas[:, 0]) # première façon\n",
    "aucf = auc(fpr0, tpr0)  # seconde façon\n",
    "ax.plot(fpr0, tpr0, label='Faux billet auc=%1.5f' % aucf)\n",
    "ax.set_title('Courbe ROC - classifieur de billets')\n",
    "ax.text(0.5, 0.3, \"plus mauvais que\\nle hasard dans\\ncette zone\")\n",
    "ax.legend()\n",
    "fig.savefig('../presentation/images/courbe_roc')\n",
    ";"
   ]
  },
  {
   "cell_type": "markdown",
   "metadata": {},
   "source": [
    "La mesure AUC ou Area Under the Curve est l’aire sous la courbe. Elle est égale à la probabilité que le score d’un exemple classé 'faux billet'  à raison soit inférieur à un exemple classé 'faux billet' à tort.\n"
   ]
  },
  {
   "cell_type": "markdown",
   "metadata": {},
   "source": [
    "Deux autres métriques sont très utilisées, la précision et le rappel. Pour chaque classifieur, on peut déterminer un seuil s au delà duquel la réponse est validée avec une bonne confiance. Parmi toutes les réponses validées, la précision est le nombre de réponses correctes rapporté au nombre de réponses validées, le rappel est le nombre de réponses correctes rapportées à toutes qui aurait dû être validées. On calcule aussi la métrique F1 qui est une moyenne harmonique entre les deux."
   ]
  },
  {
   "cell_type": "code",
   "execution_count": 80,
   "metadata": {},
   "outputs": [],
   "source": [
    "precision, recall, thresholds = precision_recall_curve(y, probas[:, 0], pos_label=logistic.classes_[0])\n"
   ]
  },
  {
   "cell_type": "code",
   "execution_count": 81,
   "metadata": {},
   "outputs": [
    {
     "data": {
      "text/html": [
       "<div>\n",
       "<style scoped>\n",
       "    .dataframe tbody tr th:only-of-type {\n",
       "        vertical-align: middle;\n",
       "    }\n",
       "\n",
       "    .dataframe tbody tr th {\n",
       "        vertical-align: top;\n",
       "    }\n",
       "\n",
       "    .dataframe thead th {\n",
       "        text-align: right;\n",
       "    }\n",
       "</style>\n",
       "<table border=\"1\" class=\"dataframe\">\n",
       "  <thead>\n",
       "    <tr style=\"text-align: right;\">\n",
       "      <th></th>\n",
       "      <th>precision</th>\n",
       "      <th>recall</th>\n",
       "      <th>threshold</th>\n",
       "      <th>F1</th>\n",
       "    </tr>\n",
       "  </thead>\n",
       "  <tbody>\n",
       "    <tr>\n",
       "      <th>0</th>\n",
       "      <td>1.0</td>\n",
       "      <td>1.000000</td>\n",
       "      <td>0.000000</td>\n",
       "      <td>1.000000</td>\n",
       "    </tr>\n",
       "    <tr>\n",
       "      <th>1</th>\n",
       "      <td>1.0</td>\n",
       "      <td>0.985714</td>\n",
       "      <td>0.688536</td>\n",
       "      <td>0.992806</td>\n",
       "    </tr>\n",
       "  </tbody>\n",
       "</table>\n",
       "</div>"
      ],
      "text/plain": [
       "   precision    recall  threshold        F1\n",
       "0        1.0  1.000000   0.000000  1.000000\n",
       "1        1.0  0.985714   0.688536  0.992806"
      ]
     },
     "execution_count": 81,
     "metadata": {},
     "output_type": "execute_result"
    }
   ],
   "source": [
    "dfpr = pd.DataFrame(dict(precision=precision, recall=recall,\n",
    "                             threshold=[0] + list(thresholds)))\n",
    "dfpr['F1']= 2 * (dfpr.precision * dfpr.recall) / (dfpr.precision + dfpr.recall)\n",
    "dfpr.head(n=2)"
   ]
  },
  {
   "cell_type": "code",
   "execution_count": 82,
   "metadata": {},
   "outputs": [
    {
     "name": "stderr",
     "output_type": "stream",
     "text": [
      "/usr/local/lib/python3.5/dist-packages/pandas/plotting/_core.py:1716: UserWarning: Pandas doesn't allow columns to be created via a new attribute name - see https://pandas.pydata.org/pandas-docs/stable/indexing.html#attribute-access\n",
      "  series.name = label\n"
     ]
    },
    {
     "data": {
      "text/plain": [
       "''"
      ]
     },
     "execution_count": 82,
     "metadata": {},
     "output_type": "execute_result"
    },
    {
     "data": {
      "image/png": "[encoded data removed]",
      "text/plain": [
       "<Figure size 288x288 with 1 Axes>"
      ]
     },
     "metadata": {},
     "output_type": "display_data"
    }
   ],
   "source": [
    "ax = dfpr.plot(x=\"threshold\", y=['precision', 'recall', 'F1'], figsize=(4, 4))\n",
    "ax.set_title(\"Evolution de la précision et du rappel\\nen fonction du seuil au delà duquel\\n\" +\n",
    "             \"la réponse du classifieur est validée\")\n",
    "image= ax.get_figure()\n",
    "image.savefig('../presentation/images/dfpr')\n",
    ";"
   ]
  },
  {
   "cell_type": "markdown",
   "metadata": {},
   "source": [
    "# Grâce à celle-ci, vous créerez un programme capable d'effectuer une prédiction sur un billet, c'est-à-dire de déterminer s'il s'agit d'un vrai ou d'un faux billet. Pour chaque billet, votre algorithme de classification devra donner la probabilité que le billet soit vrai. Si cette probabilité est supérieure ou égale à 0.5, le billet sera considéré comme vrai. Dans le cas contraire, il sera considéré comme faux."
   ]
  },
  {
   "cell_type": "markdown",
   "metadata": {},
   "source": [
    "## Dataframe test"
   ]
  },
  {
   "cell_type": "code",
   "execution_count": 83,
   "metadata": {},
   "outputs": [],
   "source": [
    "echantillon_test = data.copy()\n",
    "del echantillon_test['is_genuine']"
   ]
  },
  {
   "cell_type": "code",
   "execution_count": 84,
   "metadata": {},
   "outputs": [
    {
     "data": {
      "text/html": [
       "<div>\n",
       "<style scoped>\n",
       "    .dataframe tbody tr th:only-of-type {\n",
       "        vertical-align: middle;\n",
       "    }\n",
       "\n",
       "    .dataframe tbody tr th {\n",
       "        vertical-align: top;\n",
       "    }\n",
       "\n",
       "    .dataframe thead th {\n",
       "        text-align: right;\n",
       "    }\n",
       "</style>\n",
       "<table border=\"1\" class=\"dataframe\">\n",
       "  <thead>\n",
       "    <tr style=\"text-align: right;\">\n",
       "      <th></th>\n",
       "      <th>length</th>\n",
       "      <th>height_left</th>\n",
       "      <th>height_right</th>\n",
       "      <th>margin_low</th>\n",
       "      <th>margin_up</th>\n",
       "      <th>diagonal</th>\n",
       "      <th>probas</th>\n",
       "      <th>verif</th>\n",
       "    </tr>\n",
       "  </thead>\n",
       "  <tbody>\n",
       "    <tr>\n",
       "      <th>0</th>\n",
       "      <td>-0.428344</td>\n",
       "      <td>2.669454</td>\n",
       "      <td>3.096563</td>\n",
       "      <td>-0.131590</td>\n",
       "      <td>-1.189874</td>\n",
       "      <td>0.281633</td>\n",
       "      <td>0.858267</td>\n",
       "      <td>True</td>\n",
       "    </tr>\n",
       "    <tr>\n",
       "      <th>1</th>\n",
       "      <td>-0.887559</td>\n",
       "      <td>-1.097697</td>\n",
       "      <td>-0.691254</td>\n",
       "      <td>-0.860126</td>\n",
       "      <td>-1.274740</td>\n",
       "      <td>0.780697</td>\n",
       "      <td>0.998104</td>\n",
       "      <td>True</td>\n",
       "    </tr>\n",
       "    <tr>\n",
       "      <th>2</th>\n",
       "      <td>-0.362742</td>\n",
       "      <td>-1.030427</td>\n",
       "      <td>-0.509439</td>\n",
       "      <td>-0.303010</td>\n",
       "      <td>-1.232307</td>\n",
       "      <td>1.377405</td>\n",
       "      <td>0.997369</td>\n",
       "      <td>True</td>\n",
       "    </tr>\n",
       "    <tr>\n",
       "      <th>3</th>\n",
       "      <td>-0.461145</td>\n",
       "      <td>-0.963156</td>\n",
       "      <td>-0.842767</td>\n",
       "      <td>-1.260106</td>\n",
       "      <td>-0.213913</td>\n",
       "      <td>1.149571</td>\n",
       "      <td>0.998513</td>\n",
       "      <td>True</td>\n",
       "    </tr>\n",
       "    <tr>\n",
       "      <th>4</th>\n",
       "      <td>0.358883</td>\n",
       "      <td>-1.232238</td>\n",
       "      <td>-0.539742</td>\n",
       "      <td>0.611230</td>\n",
       "      <td>-3.820725</td>\n",
       "      <td>1.062777</td>\n",
       "      <td>0.999084</td>\n",
       "      <td>True</td>\n",
       "    </tr>\n",
       "    <tr>\n",
       "      <th>5</th>\n",
       "      <td>2.064540</td>\n",
       "      <td>1.963113</td>\n",
       "      <td>1.551134</td>\n",
       "      <td>-0.103020</td>\n",
       "      <td>-0.765543</td>\n",
       "      <td>0.639657</td>\n",
       "      <td>0.945518</td>\n",
       "      <td>True</td>\n",
       "    </tr>\n",
       "    <tr>\n",
       "      <th>6</th>\n",
       "      <td>1.441319</td>\n",
       "      <td>-1.736767</td>\n",
       "      <td>-0.388229</td>\n",
       "      <td>-0.917266</td>\n",
       "      <td>-1.147441</td>\n",
       "      <td>0.791547</td>\n",
       "      <td>0.998530</td>\n",
       "      <td>True</td>\n",
       "    </tr>\n",
       "    <tr>\n",
       "      <th>7</th>\n",
       "      <td>-1.182769</td>\n",
       "      <td>-1.400415</td>\n",
       "      <td>-1.691238</td>\n",
       "      <td>-1.531521</td>\n",
       "      <td>0.083119</td>\n",
       "      <td>0.878340</td>\n",
       "      <td>0.998518</td>\n",
       "      <td>True</td>\n",
       "    </tr>\n",
       "    <tr>\n",
       "      <th>8</th>\n",
       "      <td>0.063673</td>\n",
       "      <td>-1.871308</td>\n",
       "      <td>-0.539742</td>\n",
       "      <td>-0.788700</td>\n",
       "      <td>0.677182</td>\n",
       "      <td>1.041079</td>\n",
       "      <td>0.980190</td>\n",
       "      <td>True</td>\n",
       "    </tr>\n",
       "    <tr>\n",
       "      <th>9</th>\n",
       "      <td>0.654093</td>\n",
       "      <td>0.920419</td>\n",
       "      <td>0.823873</td>\n",
       "      <td>0.025545</td>\n",
       "      <td>-0.638244</td>\n",
       "      <td>-0.108939</td>\n",
       "      <td>0.757465</td>\n",
       "      <td>True</td>\n",
       "    </tr>\n",
       "    <tr>\n",
       "      <th>10</th>\n",
       "      <td>1.080507</td>\n",
       "      <td>0.752243</td>\n",
       "      <td>0.884478</td>\n",
       "      <td>-1.031546</td>\n",
       "      <td>1.525844</td>\n",
       "      <td>1.008531</td>\n",
       "      <td>0.935065</td>\n",
       "      <td>True</td>\n",
       "    </tr>\n",
       "    <tr>\n",
       "      <th>11</th>\n",
       "      <td>0.424485</td>\n",
       "      <td>-1.434050</td>\n",
       "      <td>-0.782162</td>\n",
       "      <td>-1.074401</td>\n",
       "      <td>0.125552</td>\n",
       "      <td>1.366555</td>\n",
       "      <td>0.997774</td>\n",
       "      <td>True</td>\n",
       "    </tr>\n",
       "    <tr>\n",
       "      <th>12</th>\n",
       "      <td>0.818098</td>\n",
       "      <td>1.828572</td>\n",
       "      <td>-0.721557</td>\n",
       "      <td>-0.874411</td>\n",
       "      <td>0.380151</td>\n",
       "      <td>0.368427</td>\n",
       "      <td>0.966217</td>\n",
       "      <td>True</td>\n",
       "    </tr>\n",
       "    <tr>\n",
       "      <th>13</th>\n",
       "      <td>-0.395543</td>\n",
       "      <td>-0.963156</td>\n",
       "      <td>-0.509439</td>\n",
       "      <td>-1.145826</td>\n",
       "      <td>0.337717</td>\n",
       "      <td>0.856642</td>\n",
       "      <td>0.991752</td>\n",
       "      <td>True</td>\n",
       "    </tr>\n",
       "    <tr>\n",
       "      <th>14</th>\n",
       "      <td>0.326082</td>\n",
       "      <td>-0.424992</td>\n",
       "      <td>-0.509439</td>\n",
       "      <td>-1.145826</td>\n",
       "      <td>0.295284</td>\n",
       "      <td>0.910888</td>\n",
       "      <td>0.993568</td>\n",
       "      <td>True</td>\n",
       "    </tr>\n",
       "    <tr>\n",
       "      <th>15</th>\n",
       "      <td>-1.117167</td>\n",
       "      <td>-0.727709</td>\n",
       "      <td>-0.054901</td>\n",
       "      <td>-0.074450</td>\n",
       "      <td>-2.590166</td>\n",
       "      <td>0.758999</td>\n",
       "      <td>0.997225</td>\n",
       "      <td>True</td>\n",
       "    </tr>\n",
       "    <tr>\n",
       "      <th>16</th>\n",
       "      <td>-0.821957</td>\n",
       "      <td>-0.559533</td>\n",
       "      <td>0.611755</td>\n",
       "      <td>-0.774415</td>\n",
       "      <td>-1.062574</td>\n",
       "      <td>1.030229</td>\n",
       "      <td>0.996477</td>\n",
       "      <td>True</td>\n",
       "    </tr>\n",
       "    <tr>\n",
       "      <th>17</th>\n",
       "      <td>0.358883</td>\n",
       "      <td>-0.559533</td>\n",
       "      <td>-0.509439</td>\n",
       "      <td>-0.131590</td>\n",
       "      <td>-1.953669</td>\n",
       "      <td>0.921737</td>\n",
       "      <td>0.997066</td>\n",
       "      <td>True</td>\n",
       "    </tr>\n",
       "    <tr>\n",
       "      <th>18</th>\n",
       "      <td>0.686894</td>\n",
       "      <td>-1.400415</td>\n",
       "      <td>-0.812465</td>\n",
       "      <td>-1.445811</td>\n",
       "      <td>1.398545</td>\n",
       "      <td>0.726451</td>\n",
       "      <td>0.983515</td>\n",
       "      <td>True</td>\n",
       "    </tr>\n",
       "    <tr>\n",
       "      <th>19</th>\n",
       "      <td>-0.625150</td>\n",
       "      <td>0.314984</td>\n",
       "      <td>0.217822</td>\n",
       "      <td>-0.602995</td>\n",
       "      <td>-0.595810</td>\n",
       "      <td>1.062777</td>\n",
       "      <td>0.991675</td>\n",
       "      <td>True</td>\n",
       "    </tr>\n",
       "    <tr>\n",
       "      <th>20</th>\n",
       "      <td>0.293280</td>\n",
       "      <td>-0.660439</td>\n",
       "      <td>-1.600331</td>\n",
       "      <td>-0.460145</td>\n",
       "      <td>-0.680677</td>\n",
       "      <td>0.563713</td>\n",
       "      <td>0.990181</td>\n",
       "      <td>True</td>\n",
       "    </tr>\n",
       "    <tr>\n",
       "      <th>21</th>\n",
       "      <td>1.802131</td>\n",
       "      <td>1.256772</td>\n",
       "      <td>0.157217</td>\n",
       "      <td>-0.760130</td>\n",
       "      <td>-0.426078</td>\n",
       "      <td>0.639657</td>\n",
       "      <td>0.989358</td>\n",
       "      <td>True</td>\n",
       "    </tr>\n",
       "    <tr>\n",
       "      <th>22</th>\n",
       "      <td>0.982104</td>\n",
       "      <td>1.492219</td>\n",
       "      <td>0.126914</td>\n",
       "      <td>-0.617280</td>\n",
       "      <td>0.210418</td>\n",
       "      <td>0.693904</td>\n",
       "      <td>0.962507</td>\n",
       "      <td>True</td>\n",
       "    </tr>\n",
       "    <tr>\n",
       "      <th>23</th>\n",
       "      <td>2.130142</td>\n",
       "      <td>0.516796</td>\n",
       "      <td>0.248124</td>\n",
       "      <td>-0.203015</td>\n",
       "      <td>-0.935275</td>\n",
       "      <td>0.672205</td>\n",
       "      <td>0.982347</td>\n",
       "      <td>True</td>\n",
       "    </tr>\n",
       "    <tr>\n",
       "      <th>24</th>\n",
       "      <td>0.621292</td>\n",
       "      <td>-1.030427</td>\n",
       "      <td>-0.236716</td>\n",
       "      <td>-1.374386</td>\n",
       "      <td>0.295284</td>\n",
       "      <td>0.379276</td>\n",
       "      <td>0.990021</td>\n",
       "      <td>True</td>\n",
       "    </tr>\n",
       "    <tr>\n",
       "      <th>25</th>\n",
       "      <td>0.883700</td>\n",
       "      <td>0.718608</td>\n",
       "      <td>1.339016</td>\n",
       "      <td>-0.788700</td>\n",
       "      <td>0.549883</td>\n",
       "      <td>1.464198</td>\n",
       "      <td>0.983237</td>\n",
       "      <td>True</td>\n",
       "    </tr>\n",
       "    <tr>\n",
       "      <th>26</th>\n",
       "      <td>1.539722</td>\n",
       "      <td>0.247714</td>\n",
       "      <td>0.399637</td>\n",
       "      <td>-0.231585</td>\n",
       "      <td>-0.977708</td>\n",
       "      <td>1.529294</td>\n",
       "      <td>0.996102</td>\n",
       "      <td>True</td>\n",
       "    </tr>\n",
       "    <tr>\n",
       "      <th>27</th>\n",
       "      <td>0.260479</td>\n",
       "      <td>0.550431</td>\n",
       "      <td>1.005688</td>\n",
       "      <td>0.439810</td>\n",
       "      <td>-1.189874</td>\n",
       "      <td>0.997682</td>\n",
       "      <td>0.942234</td>\n",
       "      <td>True</td>\n",
       "    </tr>\n",
       "    <tr>\n",
       "      <th>28</th>\n",
       "      <td>0.654093</td>\n",
       "      <td>-0.189545</td>\n",
       "      <td>0.217822</td>\n",
       "      <td>-1.388671</td>\n",
       "      <td>-0.044180</td>\n",
       "      <td>0.867491</td>\n",
       "      <td>0.996893</td>\n",
       "      <td>True</td>\n",
       "    </tr>\n",
       "    <tr>\n",
       "      <th>29</th>\n",
       "      <td>-0.329941</td>\n",
       "      <td>-1.064062</td>\n",
       "      <td>-1.660936</td>\n",
       "      <td>-0.760130</td>\n",
       "      <td>-1.996102</td>\n",
       "      <td>1.247214</td>\n",
       "      <td>0.999773</td>\n",
       "      <td>True</td>\n",
       "    </tr>\n",
       "    <tr>\n",
       "      <th>...</th>\n",
       "      <td>...</td>\n",
       "      <td>...</td>\n",
       "      <td>...</td>\n",
       "      <td>...</td>\n",
       "      <td>...</td>\n",
       "      <td>...</td>\n",
       "      <td>...</td>\n",
       "      <td>...</td>\n",
       "    </tr>\n",
       "    <tr>\n",
       "      <th>140</th>\n",
       "      <td>-0.362742</td>\n",
       "      <td>0.382255</td>\n",
       "      <td>1.005688</td>\n",
       "      <td>0.554090</td>\n",
       "      <td>1.822875</td>\n",
       "      <td>-1.107068</td>\n",
       "      <td>0.003459</td>\n",
       "      <td>False</td>\n",
       "    </tr>\n",
       "    <tr>\n",
       "      <th>141</th>\n",
       "      <td>-0.657952</td>\n",
       "      <td>-0.357721</td>\n",
       "      <td>-1.388213</td>\n",
       "      <td>0.754080</td>\n",
       "      <td>0.549883</td>\n",
       "      <td>-1.269806</td>\n",
       "      <td>0.025754</td>\n",
       "      <td>False</td>\n",
       "    </tr>\n",
       "    <tr>\n",
       "      <th>142</th>\n",
       "      <td>-0.821957</td>\n",
       "      <td>0.382255</td>\n",
       "      <td>1.066293</td>\n",
       "      <td>1.439761</td>\n",
       "      <td>0.252851</td>\n",
       "      <td>-2.213688</td>\n",
       "      <td>0.000474</td>\n",
       "      <td>False</td>\n",
       "    </tr>\n",
       "    <tr>\n",
       "      <th>143</th>\n",
       "      <td>0.194877</td>\n",
       "      <td>1.324043</td>\n",
       "      <td>1.126898</td>\n",
       "      <td>0.939785</td>\n",
       "      <td>0.846914</td>\n",
       "      <td>-0.781591</td>\n",
       "      <td>0.009748</td>\n",
       "      <td>False</td>\n",
       "    </tr>\n",
       "    <tr>\n",
       "      <th>144</th>\n",
       "      <td>-1.248371</td>\n",
       "      <td>-0.895885</td>\n",
       "      <td>-0.176111</td>\n",
       "      <td>1.496901</td>\n",
       "      <td>-0.807976</td>\n",
       "      <td>0.411824</td>\n",
       "      <td>0.260037</td>\n",
       "      <td>False</td>\n",
       "    </tr>\n",
       "    <tr>\n",
       "      <th>145</th>\n",
       "      <td>0.030872</td>\n",
       "      <td>1.357678</td>\n",
       "      <td>1.248108</td>\n",
       "      <td>1.868311</td>\n",
       "      <td>-0.298779</td>\n",
       "      <td>0.650507</td>\n",
       "      <td>0.061018</td>\n",
       "      <td>False</td>\n",
       "    </tr>\n",
       "    <tr>\n",
       "      <th>146</th>\n",
       "      <td>0.129275</td>\n",
       "      <td>1.256772</td>\n",
       "      <td>1.005688</td>\n",
       "      <td>1.625466</td>\n",
       "      <td>0.125552</td>\n",
       "      <td>-1.779719</td>\n",
       "      <td>0.000910</td>\n",
       "      <td>False</td>\n",
       "    </tr>\n",
       "    <tr>\n",
       "      <th>147</th>\n",
       "      <td>1.014905</td>\n",
       "      <td>1.525854</td>\n",
       "      <td>0.884478</td>\n",
       "      <td>0.054115</td>\n",
       "      <td>1.101513</td>\n",
       "      <td>-2.267934</td>\n",
       "      <td>0.005011</td>\n",
       "      <td>False</td>\n",
       "    </tr>\n",
       "    <tr>\n",
       "      <th>148</th>\n",
       "      <td>-0.887559</td>\n",
       "      <td>0.314984</td>\n",
       "      <td>0.460242</td>\n",
       "      <td>1.154061</td>\n",
       "      <td>0.549883</td>\n",
       "      <td>-1.020274</td>\n",
       "      <td>0.006732</td>\n",
       "      <td>False</td>\n",
       "    </tr>\n",
       "    <tr>\n",
       "      <th>149</th>\n",
       "      <td>-0.100333</td>\n",
       "      <td>-0.525897</td>\n",
       "      <td>0.157217</td>\n",
       "      <td>0.239820</td>\n",
       "      <td>2.035041</td>\n",
       "      <td>-1.258957</td>\n",
       "      <td>0.006431</td>\n",
       "      <td>False</td>\n",
       "    </tr>\n",
       "    <tr>\n",
       "      <th>150</th>\n",
       "      <td>0.030872</td>\n",
       "      <td>0.651337</td>\n",
       "      <td>0.126914</td>\n",
       "      <td>1.811171</td>\n",
       "      <td>-0.044180</td>\n",
       "      <td>-0.141487</td>\n",
       "      <td>0.020210</td>\n",
       "      <td>False</td>\n",
       "    </tr>\n",
       "    <tr>\n",
       "      <th>151</th>\n",
       "      <td>-0.854758</td>\n",
       "      <td>-0.593168</td>\n",
       "      <td>-0.691254</td>\n",
       "      <td>1.939736</td>\n",
       "      <td>-0.595810</td>\n",
       "      <td>-2.821245</td>\n",
       "      <td>0.000346</td>\n",
       "      <td>False</td>\n",
       "    </tr>\n",
       "    <tr>\n",
       "      <th>152</th>\n",
       "      <td>-0.887559</td>\n",
       "      <td>-0.929521</td>\n",
       "      <td>-1.479121</td>\n",
       "      <td>0.739795</td>\n",
       "      <td>0.634749</td>\n",
       "      <td>-1.193861</td>\n",
       "      <td>0.027756</td>\n",
       "      <td>False</td>\n",
       "    </tr>\n",
       "    <tr>\n",
       "      <th>153</th>\n",
       "      <td>-1.084366</td>\n",
       "      <td>-0.088639</td>\n",
       "      <td>0.399637</td>\n",
       "      <td>2.254006</td>\n",
       "      <td>-0.383645</td>\n",
       "      <td>-1.996704</td>\n",
       "      <td>0.000314</td>\n",
       "      <td>False</td>\n",
       "    </tr>\n",
       "    <tr>\n",
       "      <th>154</th>\n",
       "      <td>-1.051565</td>\n",
       "      <td>0.483161</td>\n",
       "      <td>0.187519</td>\n",
       "      <td>1.268341</td>\n",
       "      <td>1.186379</td>\n",
       "      <td>-1.324052</td>\n",
       "      <td>0.001299</td>\n",
       "      <td>False</td>\n",
       "    </tr>\n",
       "    <tr>\n",
       "      <th>155</th>\n",
       "      <td>0.522888</td>\n",
       "      <td>-0.290450</td>\n",
       "      <td>1.066293</td>\n",
       "      <td>1.668321</td>\n",
       "      <td>-0.044180</td>\n",
       "      <td>-1.606132</td>\n",
       "      <td>0.001591</td>\n",
       "      <td>False</td>\n",
       "    </tr>\n",
       "    <tr>\n",
       "      <th>156</th>\n",
       "      <td>-1.838791</td>\n",
       "      <td>-0.963156</td>\n",
       "      <td>-0.691254</td>\n",
       "      <td>0.868360</td>\n",
       "      <td>1.101513</td>\n",
       "      <td>-1.052821</td>\n",
       "      <td>0.008473</td>\n",
       "      <td>False</td>\n",
       "    </tr>\n",
       "    <tr>\n",
       "      <th>157</th>\n",
       "      <td>-1.346775</td>\n",
       "      <td>-0.122274</td>\n",
       "      <td>0.369335</td>\n",
       "      <td>1.654036</td>\n",
       "      <td>0.210418</td>\n",
       "      <td>-0.694797</td>\n",
       "      <td>0.005769</td>\n",
       "      <td>False</td>\n",
       "    </tr>\n",
       "    <tr>\n",
       "      <th>158</th>\n",
       "      <td>-0.329941</td>\n",
       "      <td>0.853149</td>\n",
       "      <td>1.732949</td>\n",
       "      <td>2.382571</td>\n",
       "      <td>-0.723110</td>\n",
       "      <td>-1.638679</td>\n",
       "      <td>0.000440</td>\n",
       "      <td>False</td>\n",
       "    </tr>\n",
       "    <tr>\n",
       "      <th>159</th>\n",
       "      <td>-0.723554</td>\n",
       "      <td>1.324043</td>\n",
       "      <td>0.581452</td>\n",
       "      <td>-0.574425</td>\n",
       "      <td>1.865309</td>\n",
       "      <td>-2.452371</td>\n",
       "      <td>0.004780</td>\n",
       "      <td>False</td>\n",
       "    </tr>\n",
       "    <tr>\n",
       "      <th>160</th>\n",
       "      <td>1.834932</td>\n",
       "      <td>0.012267</td>\n",
       "      <td>-0.660952</td>\n",
       "      <td>-1.131541</td>\n",
       "      <td>1.950175</td>\n",
       "      <td>-1.985855</td>\n",
       "      <td>0.092883</td>\n",
       "      <td>False</td>\n",
       "    </tr>\n",
       "    <tr>\n",
       "      <th>161</th>\n",
       "      <td>-0.067532</td>\n",
       "      <td>1.021325</td>\n",
       "      <td>0.369335</td>\n",
       "      <td>0.482665</td>\n",
       "      <td>-0.553377</td>\n",
       "      <td>-2.126895</td>\n",
       "      <td>0.025383</td>\n",
       "      <td>False</td>\n",
       "    </tr>\n",
       "    <tr>\n",
       "      <th>162</th>\n",
       "      <td>-0.887559</td>\n",
       "      <td>0.180443</td>\n",
       "      <td>0.157217</td>\n",
       "      <td>1.525471</td>\n",
       "      <td>0.040686</td>\n",
       "      <td>-1.107068</td>\n",
       "      <td>0.005550</td>\n",
       "      <td>False</td>\n",
       "    </tr>\n",
       "    <tr>\n",
       "      <th>163</th>\n",
       "      <td>-0.526747</td>\n",
       "      <td>0.012267</td>\n",
       "      <td>0.702662</td>\n",
       "      <td>1.654036</td>\n",
       "      <td>0.549883</td>\n",
       "      <td>-1.410846</td>\n",
       "      <td>0.000972</td>\n",
       "      <td>False</td>\n",
       "    </tr>\n",
       "    <tr>\n",
       "      <th>164</th>\n",
       "      <td>-1.674786</td>\n",
       "      <td>0.651337</td>\n",
       "      <td>0.126914</td>\n",
       "      <td>1.596896</td>\n",
       "      <td>-0.129047</td>\n",
       "      <td>-0.814138</td>\n",
       "      <td>0.008767</td>\n",
       "      <td>False</td>\n",
       "    </tr>\n",
       "    <tr>\n",
       "      <th>165</th>\n",
       "      <td>0.555689</td>\n",
       "      <td>0.550431</td>\n",
       "      <td>1.581436</td>\n",
       "      <td>0.896930</td>\n",
       "      <td>1.738009</td>\n",
       "      <td>-0.857535</td>\n",
       "      <td>0.002417</td>\n",
       "      <td>False</td>\n",
       "    </tr>\n",
       "    <tr>\n",
       "      <th>166</th>\n",
       "      <td>3.507789</td>\n",
       "      <td>1.761301</td>\n",
       "      <td>1.157201</td>\n",
       "      <td>0.611230</td>\n",
       "      <td>-0.510944</td>\n",
       "      <td>-1.801418</td>\n",
       "      <td>0.038444</td>\n",
       "      <td>False</td>\n",
       "    </tr>\n",
       "    <tr>\n",
       "      <th>167</th>\n",
       "      <td>1.736529</td>\n",
       "      <td>0.684972</td>\n",
       "      <td>0.520847</td>\n",
       "      <td>0.382670</td>\n",
       "      <td>0.677182</td>\n",
       "      <td>-2.050950</td>\n",
       "      <td>0.008307</td>\n",
       "      <td>False</td>\n",
       "    </tr>\n",
       "    <tr>\n",
       "      <th>168</th>\n",
       "      <td>-0.395543</td>\n",
       "      <td>-0.324086</td>\n",
       "      <td>-0.145809</td>\n",
       "      <td>0.168395</td>\n",
       "      <td>1.610710</td>\n",
       "      <td>-0.759892</td>\n",
       "      <td>0.035778</td>\n",
       "      <td>False</td>\n",
       "    </tr>\n",
       "    <tr>\n",
       "      <th>169</th>\n",
       "      <td>0.063673</td>\n",
       "      <td>-0.223180</td>\n",
       "      <td>0.066309</td>\n",
       "      <td>1.454046</td>\n",
       "      <td>0.380151</td>\n",
       "      <td>-1.747172</td>\n",
       "      <td>0.001592</td>\n",
       "      <td>False</td>\n",
       "    </tr>\n",
       "  </tbody>\n",
       "</table>\n",
       "<p>170 rows × 8 columns</p>\n",
       "</div>"
      ],
      "text/plain": [
       "       length  height_left  height_right  margin_low  margin_up  diagonal  \\\n",
       "0   -0.428344     2.669454      3.096563   -0.131590  -1.189874  0.281633   \n",
       "1   -0.887559    -1.097697     -0.691254   -0.860126  -1.274740  0.780697   \n",
       "2   -0.362742    -1.030427     -0.509439   -0.303010  -1.232307  1.377405   \n",
       "3   -0.461145    -0.963156     -0.842767   -1.260106  -0.213913  1.149571   \n",
       "4    0.358883    -1.232238     -0.539742    0.611230  -3.820725  1.062777   \n",
       "5    2.064540     1.963113      1.551134   -0.103020  -0.765543  0.639657   \n",
       "6    1.441319    -1.736767     -0.388229   -0.917266  -1.147441  0.791547   \n",
       "7   -1.182769    -1.400415     -1.691238   -1.531521   0.083119  0.878340   \n",
       "8    0.063673    -1.871308     -0.539742   -0.788700   0.677182  1.041079   \n",
       "9    0.654093     0.920419      0.823873    0.025545  -0.638244 -0.108939   \n",
       "10   1.080507     0.752243      0.884478   -1.031546   1.525844  1.008531   \n",
       "11   0.424485    -1.434050     -0.782162   -1.074401   0.125552  1.366555   \n",
       "12   0.818098     1.828572     -0.721557   -0.874411   0.380151  0.368427   \n",
       "13  -0.395543    -0.963156     -0.509439   -1.145826   0.337717  0.856642   \n",
       "14   0.326082    -0.424992     -0.509439   -1.145826   0.295284  0.910888   \n",
       "15  -1.117167    -0.727709     -0.054901   -0.074450  -2.590166  0.758999   \n",
       "16  -0.821957    -0.559533      0.611755   -0.774415  -1.062574  1.030229   \n",
       "17   0.358883    -0.559533     -0.509439   -0.131590  -1.953669  0.921737   \n",
       "18   0.686894    -1.400415     -0.812465   -1.445811   1.398545  0.726451   \n",
       "19  -0.625150     0.314984      0.217822   -0.602995  -0.595810  1.062777   \n",
       "20   0.293280    -0.660439     -1.600331   -0.460145  -0.680677  0.563713   \n",
       "21   1.802131     1.256772      0.157217   -0.760130  -0.426078  0.639657   \n",
       "22   0.982104     1.492219      0.126914   -0.617280   0.210418  0.693904   \n",
       "23   2.130142     0.516796      0.248124   -0.203015  -0.935275  0.672205   \n",
       "24   0.621292    -1.030427     -0.236716   -1.374386   0.295284  0.379276   \n",
       "25   0.883700     0.718608      1.339016   -0.788700   0.549883  1.464198   \n",
       "26   1.539722     0.247714      0.399637   -0.231585  -0.977708  1.529294   \n",
       "27   0.260479     0.550431      1.005688    0.439810  -1.189874  0.997682   \n",
       "28   0.654093    -0.189545      0.217822   -1.388671  -0.044180  0.867491   \n",
       "29  -0.329941    -1.064062     -1.660936   -0.760130  -1.996102  1.247214   \n",
       "..        ...          ...           ...         ...        ...       ...   \n",
       "140 -0.362742     0.382255      1.005688    0.554090   1.822875 -1.107068   \n",
       "141 -0.657952    -0.357721     -1.388213    0.754080   0.549883 -1.269806   \n",
       "142 -0.821957     0.382255      1.066293    1.439761   0.252851 -2.213688   \n",
       "143  0.194877     1.324043      1.126898    0.939785   0.846914 -0.781591   \n",
       "144 -1.248371    -0.895885     -0.176111    1.496901  -0.807976  0.411824   \n",
       "145  0.030872     1.357678      1.248108    1.868311  -0.298779  0.650507   \n",
       "146  0.129275     1.256772      1.005688    1.625466   0.125552 -1.779719   \n",
       "147  1.014905     1.525854      0.884478    0.054115   1.101513 -2.267934   \n",
       "148 -0.887559     0.314984      0.460242    1.154061   0.549883 -1.020274   \n",
       "149 -0.100333    -0.525897      0.157217    0.239820   2.035041 -1.258957   \n",
       "150  0.030872     0.651337      0.126914    1.811171  -0.044180 -0.141487   \n",
       "151 -0.854758    -0.593168     -0.691254    1.939736  -0.595810 -2.821245   \n",
       "152 -0.887559    -0.929521     -1.479121    0.739795   0.634749 -1.193861   \n",
       "153 -1.084366    -0.088639      0.399637    2.254006  -0.383645 -1.996704   \n",
       "154 -1.051565     0.483161      0.187519    1.268341   1.186379 -1.324052   \n",
       "155  0.522888    -0.290450      1.066293    1.668321  -0.044180 -1.606132   \n",
       "156 -1.838791    -0.963156     -0.691254    0.868360   1.101513 -1.052821   \n",
       "157 -1.346775    -0.122274      0.369335    1.654036   0.210418 -0.694797   \n",
       "158 -0.329941     0.853149      1.732949    2.382571  -0.723110 -1.638679   \n",
       "159 -0.723554     1.324043      0.581452   -0.574425   1.865309 -2.452371   \n",
       "160  1.834932     0.012267     -0.660952   -1.131541   1.950175 -1.985855   \n",
       "161 -0.067532     1.021325      0.369335    0.482665  -0.553377 -2.126895   \n",
       "162 -0.887559     0.180443      0.157217    1.525471   0.040686 -1.107068   \n",
       "163 -0.526747     0.012267      0.702662    1.654036   0.549883 -1.410846   \n",
       "164 -1.674786     0.651337      0.126914    1.596896  -0.129047 -0.814138   \n",
       "165  0.555689     0.550431      1.581436    0.896930   1.738009 -0.857535   \n",
       "166  3.507789     1.761301      1.157201    0.611230  -0.510944 -1.801418   \n",
       "167  1.736529     0.684972      0.520847    0.382670   0.677182 -2.050950   \n",
       "168 -0.395543    -0.324086     -0.145809    0.168395   1.610710 -0.759892   \n",
       "169  0.063673    -0.223180      0.066309    1.454046   0.380151 -1.747172   \n",
       "\n",
       "       probas  verif  \n",
       "0    0.858267   True  \n",
       "1    0.998104   True  \n",
       "2    0.997369   True  \n",
       "3    0.998513   True  \n",
       "4    0.999084   True  \n",
       "5    0.945518   True  \n",
       "6    0.998530   True  \n",
       "7    0.998518   True  \n",
       "8    0.980190   True  \n",
       "9    0.757465   True  \n",
       "10   0.935065   True  \n",
       "11   0.997774   True  \n",
       "12   0.966217   True  \n",
       "13   0.991752   True  \n",
       "14   0.993568   True  \n",
       "15   0.997225   True  \n",
       "16   0.996477   True  \n",
       "17   0.997066   True  \n",
       "18   0.983515   True  \n",
       "19   0.991675   True  \n",
       "20   0.990181   True  \n",
       "21   0.989358   True  \n",
       "22   0.962507   True  \n",
       "23   0.982347   True  \n",
       "24   0.990021   True  \n",
       "25   0.983237   True  \n",
       "26   0.996102   True  \n",
       "27   0.942234   True  \n",
       "28   0.996893   True  \n",
       "29   0.999773   True  \n",
       "..        ...    ...  \n",
       "140  0.003459  False  \n",
       "141  0.025754  False  \n",
       "142  0.000474  False  \n",
       "143  0.009748  False  \n",
       "144  0.260037  False  \n",
       "145  0.061018  False  \n",
       "146  0.000910  False  \n",
       "147  0.005011  False  \n",
       "148  0.006732  False  \n",
       "149  0.006431  False  \n",
       "150  0.020210  False  \n",
       "151  0.000346  False  \n",
       "152  0.027756  False  \n",
       "153  0.000314  False  \n",
       "154  0.001299  False  \n",
       "155  0.001591  False  \n",
       "156  0.008473  False  \n",
       "157  0.005769  False  \n",
       "158  0.000440  False  \n",
       "159  0.004780  False  \n",
       "160  0.092883  False  \n",
       "161  0.025383  False  \n",
       "162  0.005550  False  \n",
       "163  0.000972  False  \n",
       "164  0.008767  False  \n",
       "165  0.002417  False  \n",
       "166  0.038444  False  \n",
       "167  0.008307  False  \n",
       "168  0.035778  False  \n",
       "169  0.001592  False  \n",
       "\n",
       "[170 rows x 8 columns]"
      ]
     },
     "execution_count": 84,
     "metadata": {},
     "output_type": "execute_result"
    }
   ],
   "source": [
    "a = pd.Series(probaClasses[:,1],name='probas')\n",
    "test =pd.concat([echantillon_test,a],axis=1)\n",
    "\n",
    "test['verif']=test['probas'] >=0.5\n",
    "test\n",
    "\n"
   ]
  },
  {
   "cell_type": "markdown",
   "metadata": {},
   "source": [
    "En résumé, définir une fonction qui :\n",
    "- récupère l'échantillon test\n",
    "- extrait les valeurs\n",
    "- passe la matrice dans le modèle de regression linéaire\n",
    "- récupérer la colonne (probabilité que le billet soit classé dans True\n",
    "- ajouter cette colonne au dataframe test\n",
    "- ajouter une colonne qui vérifiera la condition de probabilité "
   ]
  },
  {
   "cell_type": "markdown",
   "metadata": {},
   "source": [
    "# Montrer graphiquement les resultats des décisions du modèle"
   ]
  },
  {
   "cell_type": "code",
   "execution_count": 85,
   "metadata": {},
   "outputs": [],
   "source": [
    "data_training = b.copy()\n",
    "data_training=data_training.loc[:,['is_genuine', 'PC1','PC2']]\n",
    "data_training_ind = data_training.copy()"
   ]
  },
  {
   "cell_type": "code",
   "execution_count": 86,
   "metadata": {},
   "outputs": [],
   "source": [
    "data_training_ind['is_genuine'] = data_training_ind.index\n",
    "del data_training_ind['is_genuine']"
   ]
  },
  {
   "cell_type": "code",
   "execution_count": 87,
   "metadata": {},
   "outputs": [
    {
     "data": {
      "text/plain": [
       "LogisticRegression(C=1.0, class_weight=None, dual=False, fit_intercept=True,\n",
       "          intercept_scaling=1, max_iter=100, multi_class='ovr', n_jobs=1,\n",
       "          penalty='l2', random_state=None, solver='liblinear', tol=0.0001,\n",
       "          verbose=0, warm_start=False)"
      ]
     },
     "execution_count": 87,
     "metadata": {},
     "output_type": "execute_result"
    }
   ],
   "source": [
    "X = data_training_ind.values\n",
    "y = data_training['is_genuine']\n",
    "\n",
    "logistic_plot = LogisticRegression()\n",
    "logistic_plot.fit(X,y)"
   ]
  },
  {
   "cell_type": "code",
   "execution_count": 88,
   "metadata": {},
   "outputs": [
    {
     "data": {
      "text/plain": [
       "['../code/algo_reg_log_plot.pkl']"
      ]
     },
     "execution_count": 88,
     "metadata": {},
     "output_type": "execute_result"
    }
   ],
   "source": [
    "joblib.dump(logistic_plot, '../code/algo_reg_log_plot.pkl')"
   ]
  },
  {
   "cell_type": "code",
   "execution_count": 89,
   "metadata": {},
   "outputs": [],
   "source": [
    "xx, yy = np.mgrid[-5:5:.01, -5:5:.01]\n",
    "grid = np.c_[xx.ravel(), yy.ravel()]\n",
    "\n",
    "\n",
    "probs = logistic_plot.predict_proba(grid)[:,1].reshape(xx.shape) #probabilité d'appartenir à True"
   ]
  },
  {
   "cell_type": "code",
   "execution_count": 90,
   "metadata": {},
   "outputs": [
    {
     "data": {
      "text/plain": [
       "[Text(0,0.5,'PC2'), Text(0.5,0,'PC1'), None]"
      ]
     },
     "execution_count": 90,
     "metadata": {},
     "output_type": "execute_result"
    },
    {
     "data": {
      "image/png": "[encoded data removed]",
      "text/plain": [
       "<Figure size 576x432 with 2 Axes>"
      ]
     },
     "metadata": {},
     "output_type": "display_data"
    }
   ],
   "source": [
    "f, ax = plt.subplots(figsize=(8, 6))\n",
    "contour = ax.contourf(xx, yy, probs,50, cmap=\"RdBu\",\n",
    "                      vmin=0, vmax=1)\n",
    "ax_c = f.colorbar(contour)\n",
    "ax_c.set_label(\"$P(y = 1)$\")\n",
    "ax_c.set_ticks([0, .25, .5, .75, 1])\n",
    "\n",
    "ax.scatter(data_training['PC1'], data_training['PC2'], c=y, s=50,\n",
    "           cmap=\"RdBu\", vmin=-.2, vmax=1.2,\n",
    "           edgecolor=\"white\", linewidth=1)\n",
    "\n",
    "ax.set(aspect=\"equal\",\n",
    "       \n",
    "       xlabel=\"PC1\", ylabel=\"PC2\")"
   ]
  }
 ],
 "metadata": {
  "kernelspec": {
   "display_name": "Python 3",
   "language": "python",
   "name": "python3"
  },
  "language_info": {
   "codemirror_mode": {
    "name": "ipython",
    "version": 3
   },
   "file_extension": ".py",
   "mimetype": "text/x-python",
   "name": "python",
   "nbconvert_exporter": "python",
   "pygments_lexer": "ipython3",
   "version": "3.5.2"
  }
 },
 "nbformat": 4,
 "nbformat_minor": 2
}
